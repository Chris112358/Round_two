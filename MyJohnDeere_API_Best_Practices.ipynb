{
 "cells": [
  {
   "cell_type": "markdown",
   "metadata": {
    "id": "6YgVGcSU2nOC"
   },
   "source": [
    "# MyJohnDeere API Best Practices"
   ]
  },
  {
   "cell_type": "markdown",
   "metadata": {
    "id": "pk6N-wuO2u0x"
   },
   "source": [
    "This notebook contains hints, best practices, and errata to help use the MyJohnDeere API's."
   ]
  },
  {
   "cell_type": "markdown",
   "metadata": {
    "id": "2lfqNzsU2qn6"
   },
   "source": [
    "*Note - This notebook requires that you be logged into Google.*\n",
    "\n",
    "Copyright (c) 2019 Deere & Company\n",
    " \n",
    "This software may be modified and distributed under the terms\n",
    "of the MIT license.  See the LICENSE file for details."
   ]
  },
  {
   "cell_type": "markdown",
   "metadata": {
    "id": "nr4M2Mbtg_8B"
   },
   "source": [
    "# Create MyJohnDeere API OAuth2 session"
   ]
  },
  {
   "cell_type": "markdown",
   "metadata": {
    "id": "Eu8KcDi08abW"
   },
   "source": [
    "If you haven't already, make sure you have gone through the [MyJohnDeere Onboarding](https://colab.research.google.com/github/JohnDeere/DevelopWithDeereNotebooks/blob/master/Onboarding/myjohndeere-api-onboarding.ipynb) notebook to better understand how to setup an OAuth2 session.  The code below simply re-iterates the steps in that notebook to setup an OAuth2 session.  Here we go through those steps again to get a valid session to use for the remainder of this notebook. "
   ]
  },
  {
   "cell_type": "markdown",
   "metadata": {
    "id": "e8-P8BG09cr-"
   },
   "source": [
    "Import some utility libraries to assist with seting up and managing an OAuth session. You can find similar libraries for the programming language of your choice"
   ]
  },
  {
   "cell_type": "code",
   "execution_count": 1,
   "metadata": {
    "id": "HFjOaC2u9U0C"
   },
   "outputs": [],
   "source": [
    "from requests_oauthlib import OAuth2Session\n",
    "import requests\n",
    "import json"
   ]
  },
  {
   "cell_type": "markdown",
   "metadata": {
    "id": "vG8MtF3x9hgw"
   },
   "source": [
    "Specify your client ID, client secret, and client redirect URI below"
   ]
  },
  {
   "cell_type": "code",
   "execution_count": 2,
   "metadata": {
    "id": "fvsFxGB5g0Vd"
   },
   "outputs": [],
   "source": [
    "CLIENT_ID = '0oa9u3fohqdKLFBbs5d7'\n",
    "CLIENT_SECRET = 'rX3y-uDy5DteR640N2fJKBuFrohaI0-rF2kOwLs3'\n",
    "CLIENT_REDIRECT_URI = 'http://loacalhost:9090/callback'\n",
    "\n",
    "# Leave the line below as-is. This line of code verifies that you've modified the CLIENT_ID, CLIENT_SECRET, CLIENT_REDIRECT_URI to the values above so that your application can complete OAuth\"\n",
    "assert(CLIENT_ID != 'place_client_key_here' and CLIENT_SECRET != 'place_client_secret_here' and CLIENT_REDIRECT_URI != 'place_client_redirect_uri_here'), \"You need to update your CLIENT_ID, CLIENT_SECRET, or CLIENT_REDIRECT_URI in this cell\""
   ]
  },
  {
   "cell_type": "markdown",
   "metadata": {
    "id": "CdHshd9F9yZ3"
   },
   "source": [
    "Query the well known OAuth URL to determine the OAuth authorization URL, token grant URL, and available scopes."
   ]
  },
  {
   "cell_type": "code",
   "execution_count": 3,
   "metadata": {
    "id": "Rmk-7u1YhrZF"
   },
   "outputs": [
    {
     "name": "stdout",
     "output_type": "stream",
     "text": [
      "Well Known Authorization URL - https://signin.johndeere.com/oauth2/aus78tnlaysMraFhC1t7/v1/authorize\n",
      "Well Known Token Grant URL - https://signin.johndeere.com/oauth2/aus78tnlaysMraFhC1t7/v1/token\n",
      "Available Scopes - ag1 ag2 ag3 eq1 eq2 files finance1 finance2 org1 org2 work1 work2 openid profile email address phone offline_access device_sso\n"
     ]
    }
   ],
   "source": [
    "WELL_KNOWN_URL = 'https://signin.johndeere.com/oauth2/aus78tnlaysMraFhC1t7/.well-known/oauth-authorization-server'\n",
    "\n",
    "# Query the ./well-known OAuth URL and parse out the authorization URL, the token grant URL, and the available scopes\n",
    "well_known_response = requests.get(WELL_KNOWN_URL)\n",
    "well_known_info = json.loads(well_known_response.text)\n",
    "\n",
    "AUTHORIZATION_URL = well_known_info['authorization_endpoint']\n",
    "TOKEN_GRANT_URL = well_known_info['token_endpoint']\n",
    "AVAILABLE_SCOPES = str(' ').join(well_known_info['scopes_supported'])\n",
    "\n",
    "print('Well Known Authorization URL - ' + AUTHORIZATION_URL)\n",
    "print('Well Known Token Grant URL - ' + TOKEN_GRANT_URL)\n",
    "print('Available Scopes - ' + AVAILABLE_SCOPES)"
   ]
  },
  {
   "cell_type": "markdown",
   "metadata": {
    "id": "86zOzNmA9-rI"
   },
   "source": [
    "Request an authorization code"
   ]
  },
  {
   "cell_type": "code",
   "execution_count": 4,
   "metadata": {
    "id": "b7C2j3d799QC"
   },
   "outputs": [
    {
     "name": "stdout",
     "output_type": "stream",
     "text": [
      "Click on the following link to present the user with sign in form where they authenticate and approve access to your application.\n",
      "https://signin.johndeere.com/oauth2/aus78tnlaysMraFhC1t7/v1/authorize?response_type=code&client_id=0oa9u3fohqdKLFBbs5d7&redirect_uri=http%3A%2F%2Floacalhost%3A9090%2Fcallback&scope=offline_access+files+eq1+ag1&state=Some+Unique+Identifier\n"
     ]
    }
   ],
   "source": [
    "SCOPES_TO_REQUEST = {'offline_access', 'ag1', 'eq1', 'files'}\n",
    "STATE = \"Some Unique Identifier\"\n",
    "oauth2_session = OAuth2Session(CLIENT_ID,  redirect_uri=CLIENT_REDIRECT_URI, scope=SCOPES_TO_REQUEST)\n",
    "\n",
    "authorization_request, state = oauth2_session.authorization_url(AUTHORIZATION_URL, STATE)\n",
    "print(\"Click on the following link to present the user with sign in form where they authenticate and approve access to your application.\")\n",
    "print(authorization_request) "
   ]
  },
  {
   "cell_type": "markdown",
   "metadata": {
    "id": "RKvFjX8n-JlW"
   },
   "source": [
    "After the user authenticates and approves accces, copy the authorization code from the redirect URL and paste it in the next code section\")\n",
    "![Verifier Screen](https://github.com/hutch4cy/DevelopWithDeereNotebooks/raw/master/Onboarding/OAuth2Code.jpg)"
   ]
  },
  {
   "cell_type": "markdown",
   "metadata": {
    "id": "Dw56-WfL-p33"
   },
   "source": [
    "Request an access token"
   ]
  },
  {
   "cell_type": "code",
   "execution_count": 5,
   "metadata": {
    "id": "b6UdOu3Liv_V"
   },
   "outputs": [
    {
     "name": "stdout",
     "output_type": "stream",
     "text": [
      "Access Token: eyJraWQiOiJNYy1mX1BROElHSFpVeHRKc3pKd0lUeHRHVjlLS081Q1J1Zm5ZbDZyN0xzIiwiYWxnIjoiUlMyNTYifQ.eyJ2ZXIiOjEsImp0aSI6IkFULnVpRk5zZlhVVXRlOWJhY2ZMQlJyeGs5ckt3TnpKS3FtaUgzVVZ4dXlCMU0ub2FyMTRlZnp6NmsxZkdHU2E1ZDciLCJpc3MiOiJodHRwczovL3NpZ25pbi5qb2huZGVlcmUuY29tL29hdXRoMi9hdXM3OHRubGF5c01yYUZoQzF0NyIsImF1ZCI6ImNvbS5kZWVyZS5pc2cuYXhpb20iLCJpYXQiOjE2ODY4MTczNjAsImV4cCI6MTY4Njg2MDU2MCwiY2lkIjoiMG9hOXUzZm9ocWRLTEZCYnM1ZDciLCJ1aWQiOiIwMHU5dTMyNW04NXBhWmY1YjVkNyIsInNjcCI6WyJhZzEiLCJvZmZsaW5lX2FjY2VzcyIsImZpbGVzIiwiZXExIl0sImF1dGhfdGltZSI6MTY4NjgxNjUzNywic3ViIjoiQ2hyaXN0aWFuS2F1IiwiaXNjc2MiOnRydWUsInRpZXIiOiJTQU5EQk9YIiwiY25hbWUiOiJFbXBsb3ltZW50IFRhc2siLCJ1c2VyVHlwZSI6IkN1c3RvbWVyIn0.f3oM6a89tRdLdamVJWfjKjGVnF4hV_6h-Dypw94DclkqXXDEctdjxARR8fEm4snUznDz2zjOfNDxzkEvpmOpafJW0WExhglNgb2YeZklLhnCU82G0YaFSGsN-IuT3dUlE13loG9KWmv6XS_Dm6Puo1T_ZIVEqV2vZ4udOZ8lFSWaNSiyA_E80HatTEoAkEqPZQYStzPlc9vq2NPjbITeULGAqJSQa2XQLrhxGhNj4JeJ4bsTQdm4yufAIznicE8IMJvpIAoqPDcKXCxlq3eV70UFewYO_2HzgbrP2pa58AYS6M2RFbJvkMwSdX0TZLeKNp_u-Ita_BiQ-Nra3O3KOA\n",
      "Refresh Token: mfPQvi_TKmKp6Fe0hHJN2kU-qZDsNRxAkcWbfYcEgMk\n",
      "Hours Token Is Valid: 12\n"
     ]
    }
   ],
   "source": [
    "# Update the authorization code here\n",
    "AUTHORIZATION_CODE = 'lmivnEmVb4Y94YV3dUm1Txfk8_LVak_IumowcKhAgpg'\n",
    "\n",
    "# Leave the line below as-is. This is to make sure that you have update the AUTHORIZATION_CODE\n",
    "assert(AUTHORIZATION_CODE != 'place_authorization_code_here'), 'The AUTHORIZATION_CODE in this cell must be replaced by the authorization_code that you recieved'\n",
    "\n",
    "# Now that we have an authorization code, lets fetch an access and refresh token\n",
    "token_response = oauth2_session.fetch_token(TOKEN_GRANT_URL, code=AUTHORIZATION_CODE, client_secret=CLIENT_SECRET)\n",
    "access_token = token_response['access_token']\n",
    "refresh_token = token_response['refresh_token']\n",
    "\n",
    "# Also take note that the access token expiration time is returned.  When the access token expires, \n",
    "# you will want to use the refresh token to request a new access token (described later in this notebook)\n",
    "access_token_expiration = token_response['expires_in']\n",
    "\n",
    "print(\"Access Token: \" + access_token)\n",
    "print(\"Refresh Token: \" + refresh_token)\n",
    "print(\"Hours Token Is Valid: \" + str(int(access_token_expiration/60/60)))"
   ]
  },
  {
   "cell_type": "markdown",
   "metadata": {
    "id": "cGKW7xzv-WQk"
   },
   "source": [
    "Call the MyJohnDeere API Catalog to verify the OAuth session"
   ]
  },
  {
   "cell_type": "code",
   "execution_count": 6,
   "metadata": {
    "id": "wrzegWj8-W1E"
   },
   "outputs": [
    {
     "name": "stdout",
     "output_type": "stream",
     "text": [
      "Request returned - 200\n"
     ]
    }
   ],
   "source": [
    "MYJOHNDEERE_V3_JSON_HEADERS = { 'Accept': 'application/vnd.deere.axiom.v3+json',\n",
    "                                'Content-Type': 'application/vnd.deere.axiom.v3+json'}\n",
    "\n",
    "# If your app happens to be already approved for production, then use the partnerapi.deere.com, otherwise stick with sandboxapi.deere.com\n",
    "API_CATALOG_URI = 'https://sandboxapi.deere.com/platform/'\n",
    "#API_CATALOG_URI = 'https://partnerapi.deere.com/platform/'\n",
    "\n",
    "api_catalog_response = oauth2_session.get(API_CATALOG_URI, headers=MYJOHNDEERE_V3_JSON_HEADERS) \n",
    "\n",
    "print(\"Request returned - \" + str(api_catalog_response.status_code))\n",
    "assert(200 == api_catalog_response.status_code)"
   ]
  },
  {
   "cell_type": "markdown",
   "metadata": {
    "id": "YBxPMx9XjQQM"
   },
   "source": [
    "#Using `links` within the MyJohnDeere API#"
   ]
  },
  {
   "cell_type": "markdown",
   "metadata": {
    "id": "QU1CJqUS0rCU"
   },
   "source": [
    "The MyJohnDeere API uses [HATEOAS](https://en.wikipedia.org/wiki/HATEOAS) links. Now that we've called the `API Catalog` lets explore the catalog by following the links."
   ]
  },
  {
   "cell_type": "markdown",
   "metadata": {
    "id": "CEVz2jB7QISb"
   },
   "source": [
    "Adding a helper method can make links easier to use. The following functions convert from the JSON link object into a python dictionary. Now the API Catalog is a little easier to work with."
   ]
  },
  {
   "cell_type": "code",
   "execution_count": 7,
   "metadata": {
    "id": "AMnebzBXi-zk"
   },
   "outputs": [
    {
     "data": {
      "text/plain": [
       "{'@type': 'ApiCatalog',\n",
       " 'links': {'files': 'https://sandboxapi.deere.com/platform/files',\n",
       "  'fileTransfers': 'https://sandboxapi.deere.com/platform/fileTransfers',\n",
       "  'currentUser': 'https://sandboxapi.deere.com/platform/users/@currentUser',\n",
       "  'organizations': 'https://sandboxapi.deere.com/platform/organizations',\n",
       "  'partnerships': 'https://sandboxapi.deere.com/platform/partnerships',\n",
       "  'lastKnownEngineHours': 'https://sandboxapi.deere.com/platform/engineHours?lastKnown=true',\n",
       "  'geofencesCreate': 'https://sandboxapi.deere.com/platform/organizations/{orgId}/geofences',\n",
       "  'geofencesListGet': 'https://sandboxapi.deere.com/platform/organizations/{orgId}/geofences',\n",
       "  'geofencesUpdate': 'https://sandboxapi.deere.com/platform/organizations/{orgId}/geofences/{geofenceId}',\n",
       "  'geofencesDelete': 'https://sandboxapi.deere.com/platform/organizations/{orgId}/geofences/{geofenceId}',\n",
       "  'hoursOfOperation': 'https://sandboxapi.deere.com/platform/hoursOfOperation',\n",
       "  'machines': 'https://sandboxapi.deere.com/platform/machines',\n",
       "  'machineMeasurements': 'https://sandboxapi.deere.com/platform/machineMeasurements',\n",
       "  'notificationEvents': 'https://sandboxapi.deere.com/platform/notificationEvents',\n",
       "  'contributionProducts': 'https://sandboxapi.deere.com/platform/contributionProducts',\n",
       "  'contributionDefinitions': 'https://sandboxapi.deere.com/platform/contributionDefinitions',\n",
       "  'cropTypes': 'https://sandboxapi.deere.com/platform/cropTypes',\n",
       "  'mapLayerTypes': 'https://sandboxapi.deere.com/platform/mapLayerTypes',\n",
       "  'assetCatalog': 'https://sandboxapi.deere.com/platform/assetCatalog',\n",
       "  'eventSubscriptions': 'https://sandboxapi.deere.com/platform/eventSubscriptions',\n",
       "  'eventSubscriptionDelivery': 'https://sandboxapi.deere.com/platform/eventSubscriptionDelivery',\n",
       "  'referenceChemicals': 'https://sandboxapi.deere.com/platform/chemicals',\n",
       "  'referenceFertilizers': 'https://sandboxapi.deere.com/platform/fertilizers',\n",
       "  'referenceVarieties': 'https://sandboxapi.deere.com/platform/varieties',\n",
       "  'agencies': 'https://sandboxapi.deere.com/platform/agencies'}}"
      ]
     },
     "execution_count": 7,
     "metadata": {},
     "output_type": "execute_result"
    }
   ],
   "source": [
    "def convert_links_array_to_dictionary(links_a):\n",
    "    link_dict = dict()\n",
    "    for link_o in links_a:\n",
    "        key = link_o['rel']\n",
    "        value = link_o['uri']\n",
    "        link_dict[key] = value\n",
    "    return link_dict\n",
    "api_catalog_links_as_dictionary = convert_links_array_to_dictionary(api_catalog_response.json()['links'])\n",
    "api_catalog_links_as_dictionary\n",
    "\n",
    "def replace_links_as_object_array_with_links_as_dictionary(object_with_links_to_convert):\n",
    "  object_with_links_converted = object_with_links_to_convert\n",
    "  object_with_links_converted['links'] = convert_links_array_to_dictionary(object_with_links_to_convert['links'])\n",
    "  return object_with_links_converted\n",
    "\n",
    "api_catalog_with_clean_links = replace_links_as_object_array_with_links_as_dictionary(api_catalog_response.json())\n",
    "api_catalog_with_clean_links"
   ]
  },
  {
   "cell_type": "markdown",
   "metadata": {
    "id": "9Wy5lIQwgyLB"
   },
   "source": [
    "That looks easier to work with. The `rel` has been converted to an attribute and the `uri` is now the value. Let us take it a step farther and modify the object itself to make using the responses themselves a bit easier."
   ]
  },
  {
   "cell_type": "markdown",
   "metadata": {
    "id": "sKIkIIZhikol"
   },
   "source": [
    "When calling the MyJohnDeere API for resources, you can control which links can appear in the response. This is done via the `showLinks` request param, where the values act as a filter to on the returned links. Let's look at the `API Catalog` again, but with fewer links.\n",
    "\n",
    "*Extra tip:* Not every link will be present; links only appear for API endpoints that you have permission to use. If your user context changes or you switch organizations, the available links may change."
   ]
  },
  {
   "cell_type": "code",
   "execution_count": 8,
   "metadata": {
    "id": "kJ1k7TbqmXls"
   },
   "outputs": [
    {
     "data": {
      "text/plain": [
       "{'@type': 'ApiCatalog',\n",
       " 'links': [{'@type': 'Link',\n",
       "   'rel': 'currentUser',\n",
       "   'uri': 'https://sandboxapi.deere.com/platform/users/@currentUser'},\n",
       "  {'@type': 'Link',\n",
       "   'rel': 'organizations',\n",
       "   'uri': 'https://sandboxapi.deere.com/platform/organizations'}]}"
      ]
     },
     "execution_count": 8,
     "metadata": {},
     "output_type": "execute_result"
    }
   ],
   "source": [
    "api_catalog_showLinks_request_param = {'showLinks': 'currentToken,currentUser,organizations'}\n",
    "\n",
    "api_catalog_response_with_request_param = oauth2_session.get(API_CATALOG_URI, headers = MYJOHNDEERE_V3_JSON_HEADERS, params = api_catalog_showLinks_request_param)\n",
    "api_catalog_response_with_request_param.json()"
   ]
  },
  {
   "cell_type": "markdown",
   "metadata": {
    "id": "hhcozknjuKFd"
   },
   "source": [
    "Using the `showLinks` request parameter is useful once you know which links your application needs. Fewer links will result in faster API responses.\n",
    "\n",
    "Now lets chain our functions together to get just the links we want."
   ]
  },
  {
   "cell_type": "code",
   "execution_count": 9,
   "metadata": {
    "id": "vDsObp0b4jxv"
   },
   "outputs": [
    {
     "data": {
      "text/plain": [
       "{'@type': 'ApiCatalog',\n",
       " 'links': {'currentUser': 'https://sandboxapi.deere.com/platform/users/@currentUser',\n",
       "  'organizations': 'https://sandboxapi.deere.com/platform/organizations'}}"
      ]
     },
     "execution_count": 9,
     "metadata": {},
     "output_type": "execute_result"
    }
   ],
   "source": [
    "def create_show_links_request_param(links_to_show_comma_separated = None):\n",
    "  return {'showLinks' : links_to_show_comma_separated}\n",
    "\n",
    "def get_myjohndeere_api_json_response(oauth_session, myjohndeere_uri, headers = MYJOHNDEERE_V3_JSON_HEADERS, params = None):\n",
    "  json_response = oauth2_session.get(myjohndeere_uri, headers = headers, params = params).json()\n",
    "  return replace_links_as_object_array_with_links_as_dictionary(json_response)\n",
    "\n",
    "api_catalog_response_with_clean_links = get_myjohndeere_api_json_response(oauth2_session, myjohndeere_uri = API_CATALOG_URI, params = create_show_links_request_param('currentToken,currentUser,organizations'))\n",
    "api_catalog_response_with_clean_links"
   ]
  },
  {
   "cell_type": "markdown",
   "metadata": {
    "id": "GzWwEoJ103Jr"
   },
   "source": [
    "Now that we can manage links, try making additional API calls by following the links. Let's follow the '`currentUser`' link to see more information about the currently logged in user."
   ]
  },
  {
   "cell_type": "code",
   "execution_count": 10,
   "metadata": {
    "id": "czehqgpO1EGe"
   },
   "outputs": [
    {
     "data": {
      "text/plain": [
       "{'@type': 'User',\n",
       " 'accountName': 'ChristianKau',\n",
       " 'givenName': 'Christian',\n",
       " 'familyName': 'Kau',\n",
       " 'userType': 'Customer',\n",
       " 'links': {'self': 'https://sandboxapi.deere.com/platform/users/ChristianKau',\n",
       "  'organizations': 'https://sandboxapi.deere.com/platform/users/ChristianKau/organizations',\n",
       "  'emailAddresses': 'https://sandboxapi.deere.com/platform/users/ChristianKau/emailAddresses'}}"
      ]
     },
     "execution_count": 10,
     "metadata": {},
     "output_type": "execute_result"
    }
   ],
   "source": [
    "current_user_link = api_catalog_response_with_clean_links['links']['currentUser']\n",
    "current_user_response = get_myjohndeere_api_json_response(oauth2_session, myjohndeere_uri = current_user_link)\n",
    "current_user_response"
   ]
  },
  {
   "cell_type": "markdown",
   "metadata": {
    "id": "tfJns6TM67zH"
   },
   "source": [
    "#Working with the `Collection` object : counts, nextPage links, and combining results#"
   ]
  },
  {
   "cell_type": "markdown",
   "metadata": {
    "id": "v91BZTmV7IDl"
   },
   "source": [
    "Many of the MyJohnDeere API's return collections of objects, as compared to the single object responses we've seen with the `API Catalog` and `currentUser` endpoints. These collections are wrapped in a JSON object that contains metadata to support pagination. You can see an example by following the '`organizations`' link from the `currentUser`"
   ]
  },
  {
   "cell_type": "code",
   "execution_count": 11,
   "metadata": {
    "id": "-Sv-9GTRyaoe"
   },
   "outputs": [
    {
     "data": {
      "text/plain": [
       "{'links': {'self': 'https://sandboxapi.deere.com/platform/users/ChristianKau/organizations'},\n",
       " 'total': 1,\n",
       " 'values': [{'@type': 'Organization',\n",
       "   'name': 'Christian Kau',\n",
       "   'type': 'customer',\n",
       "   'member': True,\n",
       "   'internal': False,\n",
       "   'id': '2469981',\n",
       "   'links': [{'@type': 'Link',\n",
       "     'rel': 'self',\n",
       "     'uri': 'https://sandboxapi.deere.com/platform/organizations/2469981'},\n",
       "    {'@type': 'Link',\n",
       "     'rel': 'preferences',\n",
       "     'uri': 'https://sandboxapi.deere.com/platform/organizations/2469981/preferences'},\n",
       "    {'@type': 'Link',\n",
       "     'rel': 'manage_connection',\n",
       "     'uri': 'https://connections.deere.com/connections/0oa9u3fohqdKLFBbs5d7/connections-dialog?orgId=2469981'},\n",
       "    {'@type': 'Link',\n",
       "     'rel': 'machines',\n",
       "     'uri': 'https://sandboxapi.deere.com/platform/organizations/2469981/machines'},\n",
       "    {'@type': 'Link',\n",
       "     'rel': 'organizationMaintenancePlans',\n",
       "     'uri': 'https://sandboxapi.deere.com/platform/organizations/2469981/maintenancePlans'},\n",
       "    {'@type': 'Link',\n",
       "     'rel': 'chemicals',\n",
       "     'uri': 'https://sandboxapi.deere.com/platform/organizations/2469981/chemicals'},\n",
       "    {'@type': 'Link',\n",
       "     'rel': 'varieties',\n",
       "     'uri': 'https://sandboxapi.deere.com/platform/organizations/2469981/varieties'},\n",
       "    {'@type': 'Link',\n",
       "     'rel': 'fertilizers',\n",
       "     'uri': 'https://sandboxapi.deere.com/platform/organizations/2469981/fertilizers'},\n",
       "    {'@type': 'Link',\n",
       "     'rel': 'machineStylePreferences',\n",
       "     'uri': 'https://sandboxapi.deere.com/platform/organizations/2469981/machineStylePreferences'},\n",
       "    {'@type': 'Link',\n",
       "     'rel': 'wdtCapableMachines',\n",
       "     'uri': 'https://sandboxapi.deere.com/platform/organizations/2469981/machines?capability=wdt'},\n",
       "    {'@type': 'Link',\n",
       "     'rel': 'notifications',\n",
       "     'uri': 'https://sandboxapi.deere.com/platform/organizations/2469981/notifications/events'},\n",
       "    {'@type': 'Link',\n",
       "     'rel': 'staff',\n",
       "     'uri': 'https://sandboxapi.deere.com/platform/organizations/2469981/staff'},\n",
       "    {'@type': 'Link',\n",
       "     'rel': 'addStaff',\n",
       "     'uri': 'https://sandboxapi.deere.com/platform/organizations/2469981/staff'},\n",
       "    {'@type': 'Link',\n",
       "     'rel': 'files',\n",
       "     'uri': 'https://sandboxapi.deere.com/platform/organizations/2469981/files'},\n",
       "    {'@type': 'Link',\n",
       "     'rel': 'transferableFiles',\n",
       "     'uri': 'https://sandboxapi.deere.com/platform/organizations/2469981/files?transferable=true'},\n",
       "    {'@type': 'Link',\n",
       "     'rel': 'uploadFile',\n",
       "     'uri': 'https://sandboxapi.deere.com/platform/organizations/2469981/files'},\n",
       "    {'@type': 'Link',\n",
       "     'rel': 'sendFileToMachine',\n",
       "     'uri': 'https://sandboxapi.deere.com/platform/organizations/2469981/fileTransfers'},\n",
       "    {'@type': 'Link',\n",
       "     'rel': 'activateProduct',\n",
       "     'uri': 'https://sandboxapi.deere.com/platform/organizations/2469981/contributionActivations'},\n",
       "    {'@type': 'Link',\n",
       "     'rel': 'contributionActivation',\n",
       "     'uri': 'https://sandboxapi.deere.com/platform/organizations/2469981/contributionActivations'},\n",
       "    {'@type': 'Link',\n",
       "     'rel': 'addMachine',\n",
       "     'uri': 'https://sandboxapi.deere.com/platform/organizations/2469981/machines'},\n",
       "    {'@type': 'Link',\n",
       "     'rel': 'fieldOperation',\n",
       "     'uri': 'https://sandboxapi.deere.com/platform/organizations/2469981/fieldOperations'},\n",
       "    {'@type': 'Link',\n",
       "     'rel': 'tasks',\n",
       "     'uri': 'https://sandboxapi.deere.com/platform/organizations/2469981/tasks'},\n",
       "    {'@type': 'Link',\n",
       "     'rel': 'addField',\n",
       "     'uri': 'https://sandboxapi.deere.com/platform/organizations/2469981/fields'},\n",
       "    {'@type': 'Link',\n",
       "     'rel': 'addChemical',\n",
       "     'uri': 'https://sandboxapi.deere.com/platform/organizations/2469981/chemicals'},\n",
       "    {'@type': 'Link',\n",
       "     'rel': 'addFertilizer',\n",
       "     'uri': 'https://sandboxapi.deere.com/platform/organizations/2469981/fertilizers'},\n",
       "    {'@type': 'Link',\n",
       "     'rel': 'addVariety',\n",
       "     'uri': 'https://sandboxapi.deere.com/platform/organizations/2469981/varieties'},\n",
       "    {'@type': 'Link',\n",
       "     'rel': 'assets',\n",
       "     'uri': 'https://sandboxapi.deere.com/platform/organizations/2469981/assets'},\n",
       "    {'@type': 'Link',\n",
       "     'rel': 'operators',\n",
       "     'uri': 'https://sandboxapi.deere.com/platform/organizations/2469981/operators'},\n",
       "    {'@type': 'Link',\n",
       "     'rel': 'fields',\n",
       "     'uri': 'https://sandboxapi.deere.com/platform/organizations/2469981/fields'},\n",
       "    {'@type': 'Link',\n",
       "     'rel': 'farms',\n",
       "     'uri': 'https://sandboxapi.deere.com/platform/organizations/2469981/farms'},\n",
       "    {'@type': 'Link',\n",
       "     'rel': 'boundaries',\n",
       "     'uri': 'https://sandboxapi.deere.com/platform/organizations/2469981/boundaries'},\n",
       "    {'@type': 'Link',\n",
       "     'rel': 'clients',\n",
       "     'uri': 'https://sandboxapi.deere.com/platform/organizations/2469981/clients'},\n",
       "    {'@type': 'Link',\n",
       "     'rel': 'fieldGuidSearch',\n",
       "     'uri': 'https://sandboxapi.deere.com/platform/organizations/2469981/fieldGuidSearches'},\n",
       "    {'@type': 'Link',\n",
       "     'rel': 'flags',\n",
       "     'uri': 'https://sandboxapi.deere.com/platform/organizations/2469981/flags'},\n",
       "    {'@type': 'Link',\n",
       "     'rel': 'flagCategory',\n",
       "     'uri': 'https://sandboxapi.deere.com/platform/organizations/2469981/flagCategories'},\n",
       "    {'@type': 'Link',\n",
       "     'rel': 'displays',\n",
       "     'uri': 'https://sandboxapi.deere.com/platform/organizations/2469981/displays'},\n",
       "    {'@type': 'Link',\n",
       "     'rel': 'entitySyncEnrollments',\n",
       "     'uri': 'https://sandboxapi.deere.com/platform/organizations/2469981/entitySyncDisplayEnrollments'},\n",
       "    {'@type': 'Link',\n",
       "     'rel': 'controllers',\n",
       "     'uri': 'https://sandboxapi.deere.com/platform/organizations/2469981/orgController'}]}]}"
      ]
     },
     "execution_count": 11,
     "metadata": {},
     "output_type": "execute_result"
    }
   ],
   "source": [
    "organizations_for_current_user_link = current_user_response['links']['organizations']\n",
    "get_myjohndeere_api_json_response(oauth2_session, myjohndeere_uri = organizations_for_current_user_link)"
   ]
  },
  {
   "cell_type": "markdown",
   "metadata": {
    "id": "3hhsSopZ1iTw"
   },
   "source": [
    "The collection wrapper contains links for '`self`', '`nextPage`', and '`previousPage`'. There is also a `total` attribute that represents how many objects exist within the collection across all pages, and a `values` attribute that contains the actual collection of objects. \n"
   ]
  },
  {
   "cell_type": "code",
   "execution_count": 12,
   "metadata": {
    "id": "Fea8lF9m6KFM"
   },
   "outputs": [],
   "source": [
    "def get_myjohndeere_api_collection_json_response(oauth_session, myjohndeere_uri, headers = MYJOHNDEERE_V3_JSON_HEADERS, params = None):\n",
    "  collection_json_response = get_myjohndeere_api_json_response(oauth_session, myjohndeere_uri, headers, params)\n",
    "  values_from_collection = collection_json_response['values']\n",
    "  values_to_add_back_to_collection = []\n",
    "  for object in values_from_collection:\n",
    "    values_to_add_back_to_collection.append(replace_links_as_object_array_with_links_as_dictionary(object))\n",
    "  collection_json_response['values'] = values_to_add_back_to_collection\n",
    "  return collection_json_response"
   ]
  },
  {
   "cell_type": "code",
   "execution_count": 13,
   "metadata": {
    "id": "bcXYCP-g7OdF"
   },
   "outputs": [
    {
     "data": {
      "text/plain": [
       "{'links': {'self': 'https://sandboxapi.deere.com/platform/users/ChristianKau/organizations'},\n",
       " 'total': 1,\n",
       " 'values': [{'@type': 'Organization',\n",
       "   'name': 'Christian Kau',\n",
       "   'type': 'customer',\n",
       "   'member': True,\n",
       "   'internal': False,\n",
       "   'id': '2469981',\n",
       "   'links': {'self': 'https://sandboxapi.deere.com/platform/organizations/2469981',\n",
       "    'preferences': 'https://sandboxapi.deere.com/platform/organizations/2469981/preferences',\n",
       "    'manage_connection': 'https://connections.deere.com/connections/0oa9u3fohqdKLFBbs5d7/connections-dialog?orgId=2469981',\n",
       "    'machines': 'https://sandboxapi.deere.com/platform/organizations/2469981/machines',\n",
       "    'organizationMaintenancePlans': 'https://sandboxapi.deere.com/platform/organizations/2469981/maintenancePlans',\n",
       "    'chemicals': 'https://sandboxapi.deere.com/platform/organizations/2469981/chemicals',\n",
       "    'varieties': 'https://sandboxapi.deere.com/platform/organizations/2469981/varieties',\n",
       "    'fertilizers': 'https://sandboxapi.deere.com/platform/organizations/2469981/fertilizers',\n",
       "    'machineStylePreferences': 'https://sandboxapi.deere.com/platform/organizations/2469981/machineStylePreferences',\n",
       "    'wdtCapableMachines': 'https://sandboxapi.deere.com/platform/organizations/2469981/machines?capability=wdt',\n",
       "    'notifications': 'https://sandboxapi.deere.com/platform/organizations/2469981/notifications/events',\n",
       "    'staff': 'https://sandboxapi.deere.com/platform/organizations/2469981/staff',\n",
       "    'addStaff': 'https://sandboxapi.deere.com/platform/organizations/2469981/staff',\n",
       "    'files': 'https://sandboxapi.deere.com/platform/organizations/2469981/files',\n",
       "    'transferableFiles': 'https://sandboxapi.deere.com/platform/organizations/2469981/files?transferable=true',\n",
       "    'uploadFile': 'https://sandboxapi.deere.com/platform/organizations/2469981/files',\n",
       "    'sendFileToMachine': 'https://sandboxapi.deere.com/platform/organizations/2469981/fileTransfers',\n",
       "    'activateProduct': 'https://sandboxapi.deere.com/platform/organizations/2469981/contributionActivations',\n",
       "    'contributionActivation': 'https://sandboxapi.deere.com/platform/organizations/2469981/contributionActivations',\n",
       "    'addMachine': 'https://sandboxapi.deere.com/platform/organizations/2469981/machines',\n",
       "    'fieldOperation': 'https://sandboxapi.deere.com/platform/organizations/2469981/fieldOperations',\n",
       "    'tasks': 'https://sandboxapi.deere.com/platform/organizations/2469981/tasks',\n",
       "    'addField': 'https://sandboxapi.deere.com/platform/organizations/2469981/fields',\n",
       "    'addChemical': 'https://sandboxapi.deere.com/platform/organizations/2469981/chemicals',\n",
       "    'addFertilizer': 'https://sandboxapi.deere.com/platform/organizations/2469981/fertilizers',\n",
       "    'addVariety': 'https://sandboxapi.deere.com/platform/organizations/2469981/varieties',\n",
       "    'assets': 'https://sandboxapi.deere.com/platform/organizations/2469981/assets',\n",
       "    'operators': 'https://sandboxapi.deere.com/platform/organizations/2469981/operators',\n",
       "    'fields': 'https://sandboxapi.deere.com/platform/organizations/2469981/fields',\n",
       "    'farms': 'https://sandboxapi.deere.com/platform/organizations/2469981/farms',\n",
       "    'boundaries': 'https://sandboxapi.deere.com/platform/organizations/2469981/boundaries',\n",
       "    'clients': 'https://sandboxapi.deere.com/platform/organizations/2469981/clients',\n",
       "    'fieldGuidSearch': 'https://sandboxapi.deere.com/platform/organizations/2469981/fieldGuidSearches',\n",
       "    'flags': 'https://sandboxapi.deere.com/platform/organizations/2469981/flags',\n",
       "    'flagCategory': 'https://sandboxapi.deere.com/platform/organizations/2469981/flagCategories',\n",
       "    'displays': 'https://sandboxapi.deere.com/platform/organizations/2469981/displays',\n",
       "    'entitySyncEnrollments': 'https://sandboxapi.deere.com/platform/organizations/2469981/entitySyncDisplayEnrollments',\n",
       "    'controllers': 'https://sandboxapi.deere.com/platform/organizations/2469981/orgController'}}]}"
      ]
     },
     "execution_count": 13,
     "metadata": {},
     "output_type": "execute_result"
    }
   ],
   "source": [
    "organizations_for_current_user_link = current_user_response['links']['organizations']\n",
    "get_myjohndeere_api_collection_json_response(oauth2_session, myjohndeere_uri = organizations_for_current_user_link)"
   ]
  },
  {
   "cell_type": "markdown",
   "metadata": {
    "id": "I7fvRu-67Zkh"
   },
   "source": [
    "Now that we have simplified the JSON that we're working with, we will next handle pagination. The MyJohnDeere API uses [pagination](https://developer.deere.com/#!help&doc=.%2Fgetstarted%2FPaginationGuide.htm&anchor=) in order to reduce the load per API request. \n",
    "\n",
    "In order to control pagination, MyJohnDeere API's use matrix parameters `start` and `count`. To demonstrate, set the `count` to one."
   ]
  },
  {
   "cell_type": "code",
   "execution_count": 14,
   "metadata": {
    "id": "09hHciaF_Zb9"
   },
   "outputs": [
    {
     "data": {
      "text/plain": [
       "{'links': {'self': 'https://sandboxapi.deere.com/platform/users/ChristianKau/organizations;count=1'},\n",
       " 'total': 1,\n",
       " 'values': [{'@type': 'Organization',\n",
       "   'name': 'Christian Kau',\n",
       "   'type': 'customer',\n",
       "   'member': True,\n",
       "   'internal': False,\n",
       "   'id': '2469981',\n",
       "   'links': {'self': 'https://sandboxapi.deere.com/platform/organizations/2469981',\n",
       "    'preferences': 'https://sandboxapi.deere.com/platform/organizations/2469981/preferences',\n",
       "    'manage_connection': 'https://connections.deere.com/connections/0oa9u3fohqdKLFBbs5d7/connections-dialog?orgId=2469981',\n",
       "    'machines': 'https://sandboxapi.deere.com/platform/organizations/2469981/machines',\n",
       "    'organizationMaintenancePlans': 'https://sandboxapi.deere.com/platform/organizations/2469981/maintenancePlans',\n",
       "    'chemicals': 'https://sandboxapi.deere.com/platform/organizations/2469981/chemicals',\n",
       "    'varieties': 'https://sandboxapi.deere.com/platform/organizations/2469981/varieties',\n",
       "    'fertilizers': 'https://sandboxapi.deere.com/platform/organizations/2469981/fertilizers',\n",
       "    'machineStylePreferences': 'https://sandboxapi.deere.com/platform/organizations/2469981/machineStylePreferences',\n",
       "    'wdtCapableMachines': 'https://sandboxapi.deere.com/platform/organizations/2469981/machines?capability=wdt',\n",
       "    'notifications': 'https://sandboxapi.deere.com/platform/organizations/2469981/notifications/events',\n",
       "    'staff': 'https://sandboxapi.deere.com/platform/organizations/2469981/staff',\n",
       "    'addStaff': 'https://sandboxapi.deere.com/platform/organizations/2469981/staff',\n",
       "    'files': 'https://sandboxapi.deere.com/platform/organizations/2469981/files',\n",
       "    'transferableFiles': 'https://sandboxapi.deere.com/platform/organizations/2469981/files?transferable=true',\n",
       "    'uploadFile': 'https://sandboxapi.deere.com/platform/organizations/2469981/files',\n",
       "    'sendFileToMachine': 'https://sandboxapi.deere.com/platform/organizations/2469981/fileTransfers',\n",
       "    'activateProduct': 'https://sandboxapi.deere.com/platform/organizations/2469981/contributionActivations',\n",
       "    'contributionActivation': 'https://sandboxapi.deere.com/platform/organizations/2469981/contributionActivations',\n",
       "    'addMachine': 'https://sandboxapi.deere.com/platform/organizations/2469981/machines',\n",
       "    'fieldOperation': 'https://sandboxapi.deere.com/platform/organizations/2469981/fieldOperations',\n",
       "    'tasks': 'https://sandboxapi.deere.com/platform/organizations/2469981/tasks',\n",
       "    'addField': 'https://sandboxapi.deere.com/platform/organizations/2469981/fields',\n",
       "    'addChemical': 'https://sandboxapi.deere.com/platform/organizations/2469981/chemicals',\n",
       "    'addFertilizer': 'https://sandboxapi.deere.com/platform/organizations/2469981/fertilizers',\n",
       "    'addVariety': 'https://sandboxapi.deere.com/platform/organizations/2469981/varieties',\n",
       "    'assets': 'https://sandboxapi.deere.com/platform/organizations/2469981/assets',\n",
       "    'operators': 'https://sandboxapi.deere.com/platform/organizations/2469981/operators',\n",
       "    'fields': 'https://sandboxapi.deere.com/platform/organizations/2469981/fields',\n",
       "    'farms': 'https://sandboxapi.deere.com/platform/organizations/2469981/farms',\n",
       "    'boundaries': 'https://sandboxapi.deere.com/platform/organizations/2469981/boundaries',\n",
       "    'clients': 'https://sandboxapi.deere.com/platform/organizations/2469981/clients',\n",
       "    'fieldGuidSearch': 'https://sandboxapi.deere.com/platform/organizations/2469981/fieldGuidSearches',\n",
       "    'flags': 'https://sandboxapi.deere.com/platform/organizations/2469981/flags',\n",
       "    'flagCategory': 'https://sandboxapi.deere.com/platform/organizations/2469981/flagCategories',\n",
       "    'displays': 'https://sandboxapi.deere.com/platform/organizations/2469981/displays',\n",
       "    'entitySyncEnrollments': 'https://sandboxapi.deere.com/platform/organizations/2469981/entitySyncDisplayEnrollments',\n",
       "    'controllers': 'https://sandboxapi.deere.com/platform/organizations/2469981/orgController'}}]}"
      ]
     },
     "execution_count": 14,
     "metadata": {},
     "output_type": "execute_result"
    }
   ],
   "source": [
    "organizations_for_current_user_link = current_user_response['links']['organizations']\n",
    "organizations_for_current_user_link_with_count_of_1 = organizations_for_current_user_link + ';count=1'\n",
    "get_myjohndeere_api_collection_json_response(oauth2_session, myjohndeere_uri = organizations_for_current_user_link_with_count_of_1)"
   ]
  },
  {
   "cell_type": "markdown",
   "metadata": {
    "id": "HAC45XiBAe73"
   },
   "source": [
    "Assuming the current user is a member of two organizations, we now see a `nextPage` link which has `start=1` and `count=1`. Let's enhance our last method to follow the `nextPage` link."
   ]
  },
  {
   "cell_type": "code",
   "execution_count": 15,
   "metadata": {
    "id": "FCji14f0AdZs"
   },
   "outputs": [],
   "source": [
    "def get_myjohndeere_api_collection_values_for_all_pages(oauth_session, myjohndeere_uri, headers = MYJOHNDEERE_V3_JSON_HEADERS, params = None):\n",
    "  collection_response = get_myjohndeere_api_collection_json_response(oauth_session, myjohndeere_uri, headers, params)\n",
    "  collection_links = collection_response['links']\n",
    "  while 'nextPage' in collection_links:\n",
    "    next_page_response = get_myjohndeere_api_collection_json_response(oauth_session, collection_links['nextPage'], headers, params)\n",
    "    collection_links = next_page_response['links']\n",
    "    collection_response['values'].extend(next_page_response['values'])\n",
    "  return collection_response['values']"
   ]
  },
  {
   "cell_type": "code",
   "execution_count": 16,
   "metadata": {
    "id": "Y1GjLH7_CoFM"
   },
   "outputs": [
    {
     "data": {
      "text/plain": [
       "[{'@type': 'Organization',\n",
       "  'name': 'Christian Kau',\n",
       "  'type': 'customer',\n",
       "  'member': True,\n",
       "  'internal': False,\n",
       "  'id': '2469981',\n",
       "  'links': {'self': 'https://sandboxapi.deere.com/platform/organizations/2469981',\n",
       "   'preferences': 'https://sandboxapi.deere.com/platform/organizations/2469981/preferences',\n",
       "   'manage_connection': 'https://connections.deere.com/connections/0oa9u3fohqdKLFBbs5d7/connections-dialog?orgId=2469981',\n",
       "   'machines': 'https://sandboxapi.deere.com/platform/organizations/2469981/machines',\n",
       "   'organizationMaintenancePlans': 'https://sandboxapi.deere.com/platform/organizations/2469981/maintenancePlans',\n",
       "   'chemicals': 'https://sandboxapi.deere.com/platform/organizations/2469981/chemicals',\n",
       "   'varieties': 'https://sandboxapi.deere.com/platform/organizations/2469981/varieties',\n",
       "   'fertilizers': 'https://sandboxapi.deere.com/platform/organizations/2469981/fertilizers',\n",
       "   'machineStylePreferences': 'https://sandboxapi.deere.com/platform/organizations/2469981/machineStylePreferences',\n",
       "   'wdtCapableMachines': 'https://sandboxapi.deere.com/platform/organizations/2469981/machines?capability=wdt',\n",
       "   'notifications': 'https://sandboxapi.deere.com/platform/organizations/2469981/notifications/events',\n",
       "   'staff': 'https://sandboxapi.deere.com/platform/organizations/2469981/staff',\n",
       "   'addStaff': 'https://sandboxapi.deere.com/platform/organizations/2469981/staff',\n",
       "   'files': 'https://sandboxapi.deere.com/platform/organizations/2469981/files',\n",
       "   'transferableFiles': 'https://sandboxapi.deere.com/platform/organizations/2469981/files?transferable=true',\n",
       "   'uploadFile': 'https://sandboxapi.deere.com/platform/organizations/2469981/files',\n",
       "   'sendFileToMachine': 'https://sandboxapi.deere.com/platform/organizations/2469981/fileTransfers',\n",
       "   'activateProduct': 'https://sandboxapi.deere.com/platform/organizations/2469981/contributionActivations',\n",
       "   'contributionActivation': 'https://sandboxapi.deere.com/platform/organizations/2469981/contributionActivations',\n",
       "   'addMachine': 'https://sandboxapi.deere.com/platform/organizations/2469981/machines',\n",
       "   'fieldOperation': 'https://sandboxapi.deere.com/platform/organizations/2469981/fieldOperations',\n",
       "   'tasks': 'https://sandboxapi.deere.com/platform/organizations/2469981/tasks',\n",
       "   'addField': 'https://sandboxapi.deere.com/platform/organizations/2469981/fields',\n",
       "   'addChemical': 'https://sandboxapi.deere.com/platform/organizations/2469981/chemicals',\n",
       "   'addFertilizer': 'https://sandboxapi.deere.com/platform/organizations/2469981/fertilizers',\n",
       "   'addVariety': 'https://sandboxapi.deere.com/platform/organizations/2469981/varieties',\n",
       "   'assets': 'https://sandboxapi.deere.com/platform/organizations/2469981/assets',\n",
       "   'operators': 'https://sandboxapi.deere.com/platform/organizations/2469981/operators',\n",
       "   'fields': 'https://sandboxapi.deere.com/platform/organizations/2469981/fields',\n",
       "   'farms': 'https://sandboxapi.deere.com/platform/organizations/2469981/farms',\n",
       "   'boundaries': 'https://sandboxapi.deere.com/platform/organizations/2469981/boundaries',\n",
       "   'clients': 'https://sandboxapi.deere.com/platform/organizations/2469981/clients',\n",
       "   'fieldGuidSearch': 'https://sandboxapi.deere.com/platform/organizations/2469981/fieldGuidSearches',\n",
       "   'flags': 'https://sandboxapi.deere.com/platform/organizations/2469981/flags',\n",
       "   'flagCategory': 'https://sandboxapi.deere.com/platform/organizations/2469981/flagCategories',\n",
       "   'displays': 'https://sandboxapi.deere.com/platform/organizations/2469981/displays',\n",
       "   'entitySyncEnrollments': 'https://sandboxapi.deere.com/platform/organizations/2469981/entitySyncDisplayEnrollments',\n",
       "   'controllers': 'https://sandboxapi.deere.com/platform/organizations/2469981/orgController'}}]"
      ]
     },
     "execution_count": 16,
     "metadata": {},
     "output_type": "execute_result"
    }
   ],
   "source": [
    "organizations_for_current_user_link = current_user_response['links']['organizations']\n",
    "organizations_for_current_user_link_with_count_of_1 = organizations_for_current_user_link + ';count=1'\n",
    "get_myjohndeere_api_collection_values_for_all_pages(oauth2_session, myjohndeere_uri = organizations_for_current_user_link_with_count_of_1)"
   ]
  },
  {
   "cell_type": "markdown",
   "metadata": {
    "id": "hCyJBlauDgGz"
   },
   "source": [
    "To be more realistic, add another helper function to set the pagination count to 100. This is the maximum page size."
   ]
  },
  {
   "cell_type": "code",
   "execution_count": 17,
   "metadata": {
    "id": "MQlDr75skMG8"
   },
   "outputs": [],
   "source": [
    "def default_to_count_100(followable_link) :\n",
    "  return followable_link + \";count=100\""
   ]
  },
  {
   "cell_type": "markdown",
   "metadata": {
    "id": "Jbu4DKruEww3"
   },
   "source": [
    "To bring all of this together, get the organization list with a page size of 100. Add a `showLinks` request param to limit links to just the `machines`, `files`, and `fields` links. \n",
    "\n",
    "*Extra tip: * If you don't want pagination, you can disable it by adding a header named `No_Paging` with value of `true`. For some endpoints you can also disable links by adding a query param `showLinks=none`."
   ]
  },
  {
   "cell_type": "code",
   "execution_count": 18,
   "metadata": {
    "id": "gWLzWjSZFISd"
   },
   "outputs": [
    {
     "data": {
      "text/plain": [
       "[{'@type': 'Organization',\n",
       "  'name': 'Christian Kau',\n",
       "  'type': 'customer',\n",
       "  'member': True,\n",
       "  'internal': False,\n",
       "  'id': '2469981',\n",
       "  'links': {'machines': 'https://sandboxapi.deere.com/platform/organizations/2469981/machines',\n",
       "   'files': 'https://sandboxapi.deere.com/platform/organizations/2469981/files',\n",
       "   'fields': 'https://sandboxapi.deere.com/platform/organizations/2469981/fields'}}]"
      ]
     },
     "execution_count": 18,
     "metadata": {},
     "output_type": "execute_result"
    }
   ],
   "source": [
    "show_links_request_param_for_organization_list = {'showLinks' : 'machines,files,fields'}\n",
    "\n",
    "organizations_for_current_user_link = current_user_response['links']['organizations']\n",
    "organizations_for_current_user_link_with_page_size_of_100 = default_to_count_100(organizations_for_current_user_link)\n",
    "get_myjohndeere_api_collection_values_for_all_pages(oauth2_session, organizations_for_current_user_link_with_page_size_of_100, params = show_links_request_param_for_organization_list)"
   ]
  },
  {
   "cell_type": "markdown",
   "metadata": {
    "id": "ArGDFKULtHcJ"
   },
   "source": [
    "#Using `embed` to optimize data retrieval#"
   ]
  },
  {
   "cell_type": "markdown",
   "metadata": {
    "id": "Oi5-pgcEtSni"
   },
   "source": [
    "To replace multiple API calls to retrieve several related objects, the MyJohnDeere API's support the concept of an '`embed`'. Instead of retrieving a list of fields and then making a series of API calls to get the associated `client` and `farm` for each field, you can request that clients and farms are embedded in the initial fields call. Then each `field` in the fields list will have pre-populated `client` and `farm` attributes.\n",
    "\n",
    "Let's start by finding an organization that has a `fields` link."
   ]
  },
  {
   "cell_type": "code",
   "execution_count": 19,
   "metadata": {
    "id": "zWcq79aTwFLD"
   },
   "outputs": [
    {
     "data": {
      "text/plain": [
       "{'@type': 'Organization',\n",
       " 'name': 'Christian Kau',\n",
       " 'type': 'customer',\n",
       " 'member': True,\n",
       " 'internal': False,\n",
       " 'id': '2469981',\n",
       " 'links': {'fields': 'https://sandboxapi.deere.com/platform/organizations/2469981/fields'}}"
      ]
     },
     "execution_count": 19,
     "metadata": {},
     "output_type": "execute_result"
    }
   ],
   "source": [
    "show_field_links_request_param_for_organization_list = {'showLinks' : 'fields'}\n",
    "\n",
    "organization_list_for_logged_in_user = get_myjohndeere_api_collection_values_for_all_pages(oauth2_session, organizations_for_current_user_link_with_page_size_of_100, params = show_field_links_request_param_for_organization_list)\n",
    "organization_which_has_fields_link = None\n",
    "for organization in organization_list_for_logged_in_user:\n",
    "  if 'fields' in organization['links']:\n",
    "    organization_which_has_fields_link = organization\n",
    "    break\n",
    "    \n",
    "assert(organization_which_has_fields_link != None), \"The logged in user is not a staff member of any organization in which they can see fields\"\n",
    "organization_which_has_fields_link"
   ]
  },
  {
   "cell_type": "markdown",
   "metadata": {
    "id": "meCjyKSYx5NJ"
   },
   "source": [
    "Let's follow the `fields` link to see which fields are available to our user within this organization."
   ]
  },
  {
   "cell_type": "code",
   "execution_count": 20,
   "metadata": {
    "id": "b04ZJSsEyNOR"
   },
   "outputs": [
    {
     "data": {
      "text/plain": [
       "[{'@type': 'Field',\n",
       "  'name': '22sep sp run2',\n",
       "  'lastModifiedTime': '1970-01-01T00:00:00.000Z',\n",
       "  'archived': False,\n",
       "  'id': 'f9b7198d-a8b7-4f87-a4d2-d42c00b5fbc2',\n",
       "  'links': {'self': 'https://sandboxapi.deere.com/platform/organizations/2469981/fields/f9b7198d-a8b7-4f87-a4d2-d42c00b5fbc2',\n",
       "   'clients': 'https://sandboxapi.deere.com/platform/organizations/2469981/fields/f9b7198d-a8b7-4f87-a4d2-d42c00b5fbc2/clients',\n",
       "   'farms': 'https://sandboxapi.deere.com/platform/organizations/2469981/fields/f9b7198d-a8b7-4f87-a4d2-d42c00b5fbc2/farms',\n",
       "   'owningOrganization': 'https://sandboxapi.deere.com/platform/organizations/2469981',\n",
       "   'boundaries': 'https://sandboxapi.deere.com/platform/organizations/2469981/fields/f9b7198d-a8b7-4f87-a4d2-d42c00b5fbc2/boundaries',\n",
       "   'simplifiedBoundaries': 'https://sandboxapi.deere.com/platform/organizations/2469981/fields/f9b7198d-a8b7-4f87-a4d2-d42c00b5fbc2/boundaries?simple=true',\n",
       "   'addBoundary': 'https://sandboxapi.deere.com/platform/organizations/2469981/fields/f9b7198d-a8b7-4f87-a4d2-d42c00b5fbc2/boundaries',\n",
       "   'fieldOperation': 'https://sandboxapi.deere.com/platform/organizations/2469981/fields/f9b7198d-a8b7-4f87-a4d2-d42c00b5fbc2/fieldOperations',\n",
       "   'mapLayerSummaries': 'https://sandboxapi.deere.com/platform/organizations/2469981/fields/f9b7198d-a8b7-4f87-a4d2-d42c00b5fbc2/mapLayerSummaries',\n",
       "   'createMapLayerSummary': 'https://sandboxapi.deere.com/platform/organizations/2469981/fields/f9b7198d-a8b7-4f87-a4d2-d42c00b5fbc2/mapLayerSummaries',\n",
       "   'lastFieldOperation': 'https://sandboxapi.deere.com/platform/organizations/2469981/fields/f9b7198d-a8b7-4f87-a4d2-d42c00b5fbc2/fieldOperations?lastFieldOperation=true',\n",
       "   'baseStationAssociation': 'https://sandboxapi.deere.com/platform/organizations/2469981/fields/f9b7198d-a8b7-4f87-a4d2-d42c00b5fbc2/baseStationAssociations',\n",
       "   'varietyLocator': 'https://sandboxapi.deere.com/platform/organizations/2469981/fields/f9b7198d-a8b7-4f87-a4d2-d42c00b5fbc2/varietyLocatorMaps',\n",
       "   'guidanceLines': 'https://sandboxapi.deere.com/platform/organizations/2469981/fields/f9b7198d-a8b7-4f87-a4d2-d42c00b5fbc2/guidanceLines',\n",
       "   'addGuidanceTrack': 'https://sandboxapi.deere.com/platform/organizations/2469981/fields/f9b7198d-a8b7-4f87-a4d2-d42c00b5fbc2/guidanceLines',\n",
       "   'deleteField': 'https://sandboxapi.deere.com/platform/organizations/2469981/fields/f9b7198d-a8b7-4f87-a4d2-d42c00b5fbc2',\n",
       "   'varietySummary': 'https://sandboxapi.deere.com/platform/organizations/2469981/fields/f9b7198d-a8b7-4f87-a4d2-d42c00b5fbc2/variety-locator-discovery',\n",
       "   'editField': 'https://sandboxapi.deere.com/platform/organizations/2469981/fields/f9b7198d-a8b7-4f87-a4d2-d42c00b5fbc2'}},\n",
       " {'@type': 'Field',\n",
       "  'name': 'Data field',\n",
       "  'lastModifiedTime': '2017-10-09T16:12:49.000Z',\n",
       "  'archived': False,\n",
       "  'id': '24c4324e-1c32-4b5c-a40c-9913ec07865e',\n",
       "  'links': {'self': 'https://sandboxapi.deere.com/platform/organizations/2469981/fields/24c4324e-1c32-4b5c-a40c-9913ec07865e',\n",
       "   'clients': 'https://sandboxapi.deere.com/platform/organizations/2469981/fields/24c4324e-1c32-4b5c-a40c-9913ec07865e/clients',\n",
       "   'farms': 'https://sandboxapi.deere.com/platform/organizations/2469981/fields/24c4324e-1c32-4b5c-a40c-9913ec07865e/farms',\n",
       "   'owningOrganization': 'https://sandboxapi.deere.com/platform/organizations/2469981',\n",
       "   'boundaries': 'https://sandboxapi.deere.com/platform/organizations/2469981/fields/24c4324e-1c32-4b5c-a40c-9913ec07865e/boundaries',\n",
       "   'simplifiedBoundaries': 'https://sandboxapi.deere.com/platform/organizations/2469981/fields/24c4324e-1c32-4b5c-a40c-9913ec07865e/boundaries?simple=true',\n",
       "   'addBoundary': 'https://sandboxapi.deere.com/platform/organizations/2469981/fields/24c4324e-1c32-4b5c-a40c-9913ec07865e/boundaries',\n",
       "   'fieldOperation': 'https://sandboxapi.deere.com/platform/organizations/2469981/fields/24c4324e-1c32-4b5c-a40c-9913ec07865e/fieldOperations',\n",
       "   'mapLayerSummaries': 'https://sandboxapi.deere.com/platform/organizations/2469981/fields/24c4324e-1c32-4b5c-a40c-9913ec07865e/mapLayerSummaries',\n",
       "   'createMapLayerSummary': 'https://sandboxapi.deere.com/platform/organizations/2469981/fields/24c4324e-1c32-4b5c-a40c-9913ec07865e/mapLayerSummaries',\n",
       "   'lastFieldOperation': 'https://sandboxapi.deere.com/platform/organizations/2469981/fields/24c4324e-1c32-4b5c-a40c-9913ec07865e/fieldOperations?lastFieldOperation=true',\n",
       "   'baseStationAssociation': 'https://sandboxapi.deere.com/platform/organizations/2469981/fields/24c4324e-1c32-4b5c-a40c-9913ec07865e/baseStationAssociations',\n",
       "   'varietyLocator': 'https://sandboxapi.deere.com/platform/organizations/2469981/fields/24c4324e-1c32-4b5c-a40c-9913ec07865e/varietyLocatorMaps',\n",
       "   'guidanceLines': 'https://sandboxapi.deere.com/platform/organizations/2469981/fields/24c4324e-1c32-4b5c-a40c-9913ec07865e/guidanceLines',\n",
       "   'addGuidanceTrack': 'https://sandboxapi.deere.com/platform/organizations/2469981/fields/24c4324e-1c32-4b5c-a40c-9913ec07865e/guidanceLines',\n",
       "   'deleteField': 'https://sandboxapi.deere.com/platform/organizations/2469981/fields/24c4324e-1c32-4b5c-a40c-9913ec07865e',\n",
       "   'varietySummary': 'https://sandboxapi.deere.com/platform/organizations/2469981/fields/24c4324e-1c32-4b5c-a40c-9913ec07865e/variety-locator-discovery',\n",
       "   'editField': 'https://sandboxapi.deere.com/platform/organizations/2469981/fields/24c4324e-1c32-4b5c-a40c-9913ec07865e'}},\n",
       " {'@type': 'Field',\n",
       "  'name': 'Field 16',\n",
       "  'lastModifiedTime': '2022-09-23T23:01:34.941Z',\n",
       "  'archived': False,\n",
       "  'id': 'd0e3cc74-5a32-4266-a362-403f077d9928',\n",
       "  'links': {'self': 'https://sandboxapi.deere.com/platform/organizations/2469981/fields/d0e3cc74-5a32-4266-a362-403f077d9928',\n",
       "   'clients': 'https://sandboxapi.deere.com/platform/organizations/2469981/fields/d0e3cc74-5a32-4266-a362-403f077d9928/clients',\n",
       "   'farms': 'https://sandboxapi.deere.com/platform/organizations/2469981/fields/d0e3cc74-5a32-4266-a362-403f077d9928/farms',\n",
       "   'owningOrganization': 'https://sandboxapi.deere.com/platform/organizations/2469981',\n",
       "   'boundaries': 'https://sandboxapi.deere.com/platform/organizations/2469981/fields/d0e3cc74-5a32-4266-a362-403f077d9928/boundaries',\n",
       "   'simplifiedBoundaries': 'https://sandboxapi.deere.com/platform/organizations/2469981/fields/d0e3cc74-5a32-4266-a362-403f077d9928/boundaries?simple=true',\n",
       "   'addBoundary': 'https://sandboxapi.deere.com/platform/organizations/2469981/fields/d0e3cc74-5a32-4266-a362-403f077d9928/boundaries',\n",
       "   'fieldOperation': 'https://sandboxapi.deere.com/platform/organizations/2469981/fields/d0e3cc74-5a32-4266-a362-403f077d9928/fieldOperations',\n",
       "   'mapLayerSummaries': 'https://sandboxapi.deere.com/platform/organizations/2469981/fields/d0e3cc74-5a32-4266-a362-403f077d9928/mapLayerSummaries',\n",
       "   'createMapLayerSummary': 'https://sandboxapi.deere.com/platform/organizations/2469981/fields/d0e3cc74-5a32-4266-a362-403f077d9928/mapLayerSummaries',\n",
       "   'lastFieldOperation': 'https://sandboxapi.deere.com/platform/organizations/2469981/fields/d0e3cc74-5a32-4266-a362-403f077d9928/fieldOperations?lastFieldOperation=true',\n",
       "   'baseStationAssociation': 'https://sandboxapi.deere.com/platform/organizations/2469981/fields/d0e3cc74-5a32-4266-a362-403f077d9928/baseStationAssociations',\n",
       "   'varietyLocator': 'https://sandboxapi.deere.com/platform/organizations/2469981/fields/d0e3cc74-5a32-4266-a362-403f077d9928/varietyLocatorMaps',\n",
       "   'guidanceLines': 'https://sandboxapi.deere.com/platform/organizations/2469981/fields/d0e3cc74-5a32-4266-a362-403f077d9928/guidanceLines',\n",
       "   'addGuidanceTrack': 'https://sandboxapi.deere.com/platform/organizations/2469981/fields/d0e3cc74-5a32-4266-a362-403f077d9928/guidanceLines',\n",
       "   'deleteField': 'https://sandboxapi.deere.com/platform/organizations/2469981/fields/d0e3cc74-5a32-4266-a362-403f077d9928',\n",
       "   'varietySummary': 'https://sandboxapi.deere.com/platform/organizations/2469981/fields/d0e3cc74-5a32-4266-a362-403f077d9928/variety-locator-discovery',\n",
       "   'editField': 'https://sandboxapi.deere.com/platform/organizations/2469981/fields/d0e3cc74-5a32-4266-a362-403f077d9928'}},\n",
       " {'@type': 'Field',\n",
       "  'name': 'Field 17',\n",
       "  'lastModifiedTime': '2022-09-28T20:00:38.954Z',\n",
       "  'archived': False,\n",
       "  'id': 'ede243fd-c570-4c1d-8438-378f4e1c76ee',\n",
       "  'links': {'self': 'https://sandboxapi.deere.com/platform/organizations/2469981/fields/ede243fd-c570-4c1d-8438-378f4e1c76ee',\n",
       "   'clients': 'https://sandboxapi.deere.com/platform/organizations/2469981/fields/ede243fd-c570-4c1d-8438-378f4e1c76ee/clients',\n",
       "   'farms': 'https://sandboxapi.deere.com/platform/organizations/2469981/fields/ede243fd-c570-4c1d-8438-378f4e1c76ee/farms',\n",
       "   'owningOrganization': 'https://sandboxapi.deere.com/platform/organizations/2469981',\n",
       "   'boundaries': 'https://sandboxapi.deere.com/platform/organizations/2469981/fields/ede243fd-c570-4c1d-8438-378f4e1c76ee/boundaries',\n",
       "   'simplifiedBoundaries': 'https://sandboxapi.deere.com/platform/organizations/2469981/fields/ede243fd-c570-4c1d-8438-378f4e1c76ee/boundaries?simple=true',\n",
       "   'addBoundary': 'https://sandboxapi.deere.com/platform/organizations/2469981/fields/ede243fd-c570-4c1d-8438-378f4e1c76ee/boundaries',\n",
       "   'fieldOperation': 'https://sandboxapi.deere.com/platform/organizations/2469981/fields/ede243fd-c570-4c1d-8438-378f4e1c76ee/fieldOperations',\n",
       "   'mapLayerSummaries': 'https://sandboxapi.deere.com/platform/organizations/2469981/fields/ede243fd-c570-4c1d-8438-378f4e1c76ee/mapLayerSummaries',\n",
       "   'createMapLayerSummary': 'https://sandboxapi.deere.com/platform/organizations/2469981/fields/ede243fd-c570-4c1d-8438-378f4e1c76ee/mapLayerSummaries',\n",
       "   'lastFieldOperation': 'https://sandboxapi.deere.com/platform/organizations/2469981/fields/ede243fd-c570-4c1d-8438-378f4e1c76ee/fieldOperations?lastFieldOperation=true',\n",
       "   'baseStationAssociation': 'https://sandboxapi.deere.com/platform/organizations/2469981/fields/ede243fd-c570-4c1d-8438-378f4e1c76ee/baseStationAssociations',\n",
       "   'varietyLocator': 'https://sandboxapi.deere.com/platform/organizations/2469981/fields/ede243fd-c570-4c1d-8438-378f4e1c76ee/varietyLocatorMaps',\n",
       "   'guidanceLines': 'https://sandboxapi.deere.com/platform/organizations/2469981/fields/ede243fd-c570-4c1d-8438-378f4e1c76ee/guidanceLines',\n",
       "   'addGuidanceTrack': 'https://sandboxapi.deere.com/platform/organizations/2469981/fields/ede243fd-c570-4c1d-8438-378f4e1c76ee/guidanceLines',\n",
       "   'deleteField': 'https://sandboxapi.deere.com/platform/organizations/2469981/fields/ede243fd-c570-4c1d-8438-378f4e1c76ee',\n",
       "   'varietySummary': 'https://sandboxapi.deere.com/platform/organizations/2469981/fields/ede243fd-c570-4c1d-8438-378f4e1c76ee/variety-locator-discovery',\n",
       "   'editField': 'https://sandboxapi.deere.com/platform/organizations/2469981/fields/ede243fd-c570-4c1d-8438-378f4e1c76ee'}},\n",
       " {'@type': 'Field',\n",
       "  'name': 'Field 18',\n",
       "  'lastModifiedTime': '2022-11-01T15:25:52.108Z',\n",
       "  'archived': False,\n",
       "  'id': '65997c6f-5299-4121-b833-86a3aa481faf',\n",
       "  'links': {'self': 'https://sandboxapi.deere.com/platform/organizations/2469981/fields/65997c6f-5299-4121-b833-86a3aa481faf',\n",
       "   'clients': 'https://sandboxapi.deere.com/platform/organizations/2469981/fields/65997c6f-5299-4121-b833-86a3aa481faf/clients',\n",
       "   'farms': 'https://sandboxapi.deere.com/platform/organizations/2469981/fields/65997c6f-5299-4121-b833-86a3aa481faf/farms',\n",
       "   'owningOrganization': 'https://sandboxapi.deere.com/platform/organizations/2469981',\n",
       "   'boundaries': 'https://sandboxapi.deere.com/platform/organizations/2469981/fields/65997c6f-5299-4121-b833-86a3aa481faf/boundaries',\n",
       "   'simplifiedBoundaries': 'https://sandboxapi.deere.com/platform/organizations/2469981/fields/65997c6f-5299-4121-b833-86a3aa481faf/boundaries?simple=true',\n",
       "   'addBoundary': 'https://sandboxapi.deere.com/platform/organizations/2469981/fields/65997c6f-5299-4121-b833-86a3aa481faf/boundaries',\n",
       "   'fieldOperation': 'https://sandboxapi.deere.com/platform/organizations/2469981/fields/65997c6f-5299-4121-b833-86a3aa481faf/fieldOperations',\n",
       "   'mapLayerSummaries': 'https://sandboxapi.deere.com/platform/organizations/2469981/fields/65997c6f-5299-4121-b833-86a3aa481faf/mapLayerSummaries',\n",
       "   'createMapLayerSummary': 'https://sandboxapi.deere.com/platform/organizations/2469981/fields/65997c6f-5299-4121-b833-86a3aa481faf/mapLayerSummaries',\n",
       "   'lastFieldOperation': 'https://sandboxapi.deere.com/platform/organizations/2469981/fields/65997c6f-5299-4121-b833-86a3aa481faf/fieldOperations?lastFieldOperation=true',\n",
       "   'baseStationAssociation': 'https://sandboxapi.deere.com/platform/organizations/2469981/fields/65997c6f-5299-4121-b833-86a3aa481faf/baseStationAssociations',\n",
       "   'varietyLocator': 'https://sandboxapi.deere.com/platform/organizations/2469981/fields/65997c6f-5299-4121-b833-86a3aa481faf/varietyLocatorMaps',\n",
       "   'guidanceLines': 'https://sandboxapi.deere.com/platform/organizations/2469981/fields/65997c6f-5299-4121-b833-86a3aa481faf/guidanceLines',\n",
       "   'addGuidanceTrack': 'https://sandboxapi.deere.com/platform/organizations/2469981/fields/65997c6f-5299-4121-b833-86a3aa481faf/guidanceLines',\n",
       "   'deleteField': 'https://sandboxapi.deere.com/platform/organizations/2469981/fields/65997c6f-5299-4121-b833-86a3aa481faf',\n",
       "   'varietySummary': 'https://sandboxapi.deere.com/platform/organizations/2469981/fields/65997c6f-5299-4121-b833-86a3aa481faf/variety-locator-discovery',\n",
       "   'editField': 'https://sandboxapi.deere.com/platform/organizations/2469981/fields/65997c6f-5299-4121-b833-86a3aa481faf'}},\n",
       " {'@type': 'Field',\n",
       "  'name': 'Field 19',\n",
       "  'lastModifiedTime': '2022-12-19T20:31:20.000Z',\n",
       "  'archived': False,\n",
       "  'id': '7cf55985-38b2-44ec-b906-a54cb205e33c',\n",
       "  'links': {'self': 'https://sandboxapi.deere.com/platform/organizations/2469981/fields/7cf55985-38b2-44ec-b906-a54cb205e33c',\n",
       "   'clients': 'https://sandboxapi.deere.com/platform/organizations/2469981/fields/7cf55985-38b2-44ec-b906-a54cb205e33c/clients',\n",
       "   'farms': 'https://sandboxapi.deere.com/platform/organizations/2469981/fields/7cf55985-38b2-44ec-b906-a54cb205e33c/farms',\n",
       "   'owningOrganization': 'https://sandboxapi.deere.com/platform/organizations/2469981',\n",
       "   'boundaries': 'https://sandboxapi.deere.com/platform/organizations/2469981/fields/7cf55985-38b2-44ec-b906-a54cb205e33c/boundaries',\n",
       "   'simplifiedBoundaries': 'https://sandboxapi.deere.com/platform/organizations/2469981/fields/7cf55985-38b2-44ec-b906-a54cb205e33c/boundaries?simple=true',\n",
       "   'addBoundary': 'https://sandboxapi.deere.com/platform/organizations/2469981/fields/7cf55985-38b2-44ec-b906-a54cb205e33c/boundaries',\n",
       "   'fieldOperation': 'https://sandboxapi.deere.com/platform/organizations/2469981/fields/7cf55985-38b2-44ec-b906-a54cb205e33c/fieldOperations',\n",
       "   'mapLayerSummaries': 'https://sandboxapi.deere.com/platform/organizations/2469981/fields/7cf55985-38b2-44ec-b906-a54cb205e33c/mapLayerSummaries',\n",
       "   'createMapLayerSummary': 'https://sandboxapi.deere.com/platform/organizations/2469981/fields/7cf55985-38b2-44ec-b906-a54cb205e33c/mapLayerSummaries',\n",
       "   'lastFieldOperation': 'https://sandboxapi.deere.com/platform/organizations/2469981/fields/7cf55985-38b2-44ec-b906-a54cb205e33c/fieldOperations?lastFieldOperation=true',\n",
       "   'baseStationAssociation': 'https://sandboxapi.deere.com/platform/organizations/2469981/fields/7cf55985-38b2-44ec-b906-a54cb205e33c/baseStationAssociations',\n",
       "   'varietyLocator': 'https://sandboxapi.deere.com/platform/organizations/2469981/fields/7cf55985-38b2-44ec-b906-a54cb205e33c/varietyLocatorMaps',\n",
       "   'guidanceLines': 'https://sandboxapi.deere.com/platform/organizations/2469981/fields/7cf55985-38b2-44ec-b906-a54cb205e33c/guidanceLines',\n",
       "   'addGuidanceTrack': 'https://sandboxapi.deere.com/platform/organizations/2469981/fields/7cf55985-38b2-44ec-b906-a54cb205e33c/guidanceLines',\n",
       "   'deleteField': 'https://sandboxapi.deere.com/platform/organizations/2469981/fields/7cf55985-38b2-44ec-b906-a54cb205e33c',\n",
       "   'varietySummary': 'https://sandboxapi.deere.com/platform/organizations/2469981/fields/7cf55985-38b2-44ec-b906-a54cb205e33c/variety-locator-discovery',\n",
       "   'editField': 'https://sandboxapi.deere.com/platform/organizations/2469981/fields/7cf55985-38b2-44ec-b906-a54cb205e33c'}},\n",
       " {'@type': 'Field',\n",
       "  'name': 'Field 23',\n",
       "  'lastModifiedTime': '2021-09-09T14:07:09.595Z',\n",
       "  'archived': False,\n",
       "  'id': 'f8159948-2bb4-4607-87bf-ae399e3e7a61',\n",
       "  'links': {'self': 'https://sandboxapi.deere.com/platform/organizations/2469981/fields/f8159948-2bb4-4607-87bf-ae399e3e7a61',\n",
       "   'clients': 'https://sandboxapi.deere.com/platform/organizations/2469981/fields/f8159948-2bb4-4607-87bf-ae399e3e7a61/clients',\n",
       "   'farms': 'https://sandboxapi.deere.com/platform/organizations/2469981/fields/f8159948-2bb4-4607-87bf-ae399e3e7a61/farms',\n",
       "   'owningOrganization': 'https://sandboxapi.deere.com/platform/organizations/2469981',\n",
       "   'boundaries': 'https://sandboxapi.deere.com/platform/organizations/2469981/fields/f8159948-2bb4-4607-87bf-ae399e3e7a61/boundaries',\n",
       "   'simplifiedBoundaries': 'https://sandboxapi.deere.com/platform/organizations/2469981/fields/f8159948-2bb4-4607-87bf-ae399e3e7a61/boundaries?simple=true',\n",
       "   'addBoundary': 'https://sandboxapi.deere.com/platform/organizations/2469981/fields/f8159948-2bb4-4607-87bf-ae399e3e7a61/boundaries',\n",
       "   'fieldOperation': 'https://sandboxapi.deere.com/platform/organizations/2469981/fields/f8159948-2bb4-4607-87bf-ae399e3e7a61/fieldOperations',\n",
       "   'mapLayerSummaries': 'https://sandboxapi.deere.com/platform/organizations/2469981/fields/f8159948-2bb4-4607-87bf-ae399e3e7a61/mapLayerSummaries',\n",
       "   'createMapLayerSummary': 'https://sandboxapi.deere.com/platform/organizations/2469981/fields/f8159948-2bb4-4607-87bf-ae399e3e7a61/mapLayerSummaries',\n",
       "   'lastFieldOperation': 'https://sandboxapi.deere.com/platform/organizations/2469981/fields/f8159948-2bb4-4607-87bf-ae399e3e7a61/fieldOperations?lastFieldOperation=true',\n",
       "   'baseStationAssociation': 'https://sandboxapi.deere.com/platform/organizations/2469981/fields/f8159948-2bb4-4607-87bf-ae399e3e7a61/baseStationAssociations',\n",
       "   'varietyLocator': 'https://sandboxapi.deere.com/platform/organizations/2469981/fields/f8159948-2bb4-4607-87bf-ae399e3e7a61/varietyLocatorMaps',\n",
       "   'guidanceLines': 'https://sandboxapi.deere.com/platform/organizations/2469981/fields/f8159948-2bb4-4607-87bf-ae399e3e7a61/guidanceLines',\n",
       "   'addGuidanceTrack': 'https://sandboxapi.deere.com/platform/organizations/2469981/fields/f8159948-2bb4-4607-87bf-ae399e3e7a61/guidanceLines',\n",
       "   'deleteField': 'https://sandboxapi.deere.com/platform/organizations/2469981/fields/f8159948-2bb4-4607-87bf-ae399e3e7a61',\n",
       "   'varietySummary': 'https://sandboxapi.deere.com/platform/organizations/2469981/fields/f8159948-2bb4-4607-87bf-ae399e3e7a61/variety-locator-discovery',\n",
       "   'editField': 'https://sandboxapi.deere.com/platform/organizations/2469981/fields/f8159948-2bb4-4607-87bf-ae399e3e7a61'}},\n",
       " {'@type': 'Field',\n",
       "  'name': 'Jen-3',\n",
       "  'lastModifiedTime': '1970-01-01T00:00:00.000Z',\n",
       "  'archived': False,\n",
       "  'id': 'fbf5c2c6-3e1a-4b0b-9dd9-e5f990f8ea44',\n",
       "  'links': {'self': 'https://sandboxapi.deere.com/platform/organizations/2469981/fields/fbf5c2c6-3e1a-4b0b-9dd9-e5f990f8ea44',\n",
       "   'clients': 'https://sandboxapi.deere.com/platform/organizations/2469981/fields/fbf5c2c6-3e1a-4b0b-9dd9-e5f990f8ea44/clients',\n",
       "   'farms': 'https://sandboxapi.deere.com/platform/organizations/2469981/fields/fbf5c2c6-3e1a-4b0b-9dd9-e5f990f8ea44/farms',\n",
       "   'owningOrganization': 'https://sandboxapi.deere.com/platform/organizations/2469981',\n",
       "   'boundaries': 'https://sandboxapi.deere.com/platform/organizations/2469981/fields/fbf5c2c6-3e1a-4b0b-9dd9-e5f990f8ea44/boundaries',\n",
       "   'simplifiedBoundaries': 'https://sandboxapi.deere.com/platform/organizations/2469981/fields/fbf5c2c6-3e1a-4b0b-9dd9-e5f990f8ea44/boundaries?simple=true',\n",
       "   'addBoundary': 'https://sandboxapi.deere.com/platform/organizations/2469981/fields/fbf5c2c6-3e1a-4b0b-9dd9-e5f990f8ea44/boundaries',\n",
       "   'fieldOperation': 'https://sandboxapi.deere.com/platform/organizations/2469981/fields/fbf5c2c6-3e1a-4b0b-9dd9-e5f990f8ea44/fieldOperations',\n",
       "   'mapLayerSummaries': 'https://sandboxapi.deere.com/platform/organizations/2469981/fields/fbf5c2c6-3e1a-4b0b-9dd9-e5f990f8ea44/mapLayerSummaries',\n",
       "   'createMapLayerSummary': 'https://sandboxapi.deere.com/platform/organizations/2469981/fields/fbf5c2c6-3e1a-4b0b-9dd9-e5f990f8ea44/mapLayerSummaries',\n",
       "   'lastFieldOperation': 'https://sandboxapi.deere.com/platform/organizations/2469981/fields/fbf5c2c6-3e1a-4b0b-9dd9-e5f990f8ea44/fieldOperations?lastFieldOperation=true',\n",
       "   'baseStationAssociation': 'https://sandboxapi.deere.com/platform/organizations/2469981/fields/fbf5c2c6-3e1a-4b0b-9dd9-e5f990f8ea44/baseStationAssociations',\n",
       "   'varietyLocator': 'https://sandboxapi.deere.com/platform/organizations/2469981/fields/fbf5c2c6-3e1a-4b0b-9dd9-e5f990f8ea44/varietyLocatorMaps',\n",
       "   'guidanceLines': 'https://sandboxapi.deere.com/platform/organizations/2469981/fields/fbf5c2c6-3e1a-4b0b-9dd9-e5f990f8ea44/guidanceLines',\n",
       "   'addGuidanceTrack': 'https://sandboxapi.deere.com/platform/organizations/2469981/fields/fbf5c2c6-3e1a-4b0b-9dd9-e5f990f8ea44/guidanceLines',\n",
       "   'deleteField': 'https://sandboxapi.deere.com/platform/organizations/2469981/fields/fbf5c2c6-3e1a-4b0b-9dd9-e5f990f8ea44',\n",
       "   'varietySummary': 'https://sandboxapi.deere.com/platform/organizations/2469981/fields/fbf5c2c6-3e1a-4b0b-9dd9-e5f990f8ea44/variety-locator-discovery',\n",
       "   'editField': 'https://sandboxapi.deere.com/platform/organizations/2469981/fields/fbf5c2c6-3e1a-4b0b-9dd9-e5f990f8ea44'}}]"
      ]
     },
     "execution_count": 20,
     "metadata": {},
     "output_type": "execute_result"
    }
   ],
   "source": [
    "organization_field_list_uri = organization_which_has_fields_link['links']['fields']\n",
    "organization_field_list_uri_with_count_100 = default_to_count_100(organization_field_list_uri)\n",
    "\n",
    "\n",
    "field_list_for_organization = get_myjohndeere_api_collection_values_for_all_pages(oauth2_session, organization_field_list_uri_with_count_100)\n",
    "field_list_for_organization"
   ]
  },
  {
   "cell_type": "markdown",
   "metadata": {
    "id": "5efwot6Ky3aS"
   },
   "source": [
    "As long as your organization has at least one field, you should see the `field` object with a variety of links. We could follow the links to retrieve the associated `client`, `farm`, and `boundary`, but it's faster to get everything in one API call. \n",
    "\n",
    "Let's make the same call as before, but use the `embed` request param to get more information."
   ]
  },
  {
   "cell_type": "code",
   "execution_count": 21,
   "metadata": {
    "id": "K8qipnD5zhfF"
   },
   "outputs": [
    {
     "data": {
      "text/plain": [
       "[{'@type': 'Field',\n",
       "  'name': '22sep sp run2',\n",
       "  'farms': {'@type': 'Farms',\n",
       "   'farms': [{'@type': 'Farm',\n",
       "     'name': '---',\n",
       "     'archived': False,\n",
       "     'clientUri': 'https://sandboxapi.deere.com/platform/organizations/2469981/clients/',\n",
       "     'id': '48758010-7e48-4e59-8a2a-b776c975fa2b',\n",
       "     'links': [{'@type': 'Link',\n",
       "       'rel': 'self',\n",
       "       'uri': 'https://sandboxapi.deere.com/platform/organizations/2469981/farms/48758010-7e48-4e59-8a2a-b776c975fa2b'},\n",
       "      {'@type': 'Link',\n",
       "       'rel': 'fields',\n",
       "       'uri': 'https://sandboxapi.deere.com/platform/organizations/2469981/farms/48758010-7e48-4e59-8a2a-b776c975fa2b/fields'},\n",
       "      {'@type': 'Link',\n",
       "       'rel': 'clients',\n",
       "       'uri': 'https://sandboxapi.deere.com/platform/organizations/2469981/farms/48758010-7e48-4e59-8a2a-b776c975fa2b/clients'},\n",
       "      {'@type': 'Link',\n",
       "       'rel': 'owningOrganization',\n",
       "       'uri': 'https://sandboxapi.deere.com/platform/organizations/2469981'}]}],\n",
       "   'otherAttributes': {}},\n",
       "  'clients': {'@type': 'Clients',\n",
       "   'clients': [{'@type': 'Client',\n",
       "     'name': '---',\n",
       "     'id': 'f9052cfa-e006-4d24-af59-a39f3239a3e3',\n",
       "     'links': [{'@type': 'Link',\n",
       "       'rel': 'self',\n",
       "       'uri': 'https://sandboxapi.deere.com/platform/organizations/2469981/clients/f9052cfa-e006-4d24-af59-a39f3239a3e3'},\n",
       "      {'@type': 'Link',\n",
       "       'rel': 'fields',\n",
       "       'uri': 'https://sandboxapi.deere.com/platform/organizations/2469981/clients/f9052cfa-e006-4d24-af59-a39f3239a3e3/fields'},\n",
       "      {'@type': 'Link',\n",
       "       'rel': 'farms',\n",
       "       'uri': 'https://sandboxapi.deere.com/platform/organizations/2469981/clients/f9052cfa-e006-4d24-af59-a39f3239a3e3/farms'},\n",
       "      {'@type': 'Link',\n",
       "       'rel': 'owningOrganization',\n",
       "       'uri': 'https://sandboxapi.deere.com/platform/organizations/2469981'}]}],\n",
       "   'otherAttributes': {}},\n",
       "  'lastModifiedTime': '1970-01-01T00:00:00.000Z',\n",
       "  'archived': False,\n",
       "  'id': 'f9b7198d-a8b7-4f87-a4d2-d42c00b5fbc2',\n",
       "  'links': {'self': 'https://sandboxapi.deere.com/platform/organizations/2469981/fields/f9b7198d-a8b7-4f87-a4d2-d42c00b5fbc2',\n",
       "   'owningOrganization': 'https://sandboxapi.deere.com/platform/organizations/2469981',\n",
       "   'boundaries': 'https://sandboxapi.deere.com/platform/organizations/2469981/fields/f9b7198d-a8b7-4f87-a4d2-d42c00b5fbc2/boundaries',\n",
       "   'simplifiedBoundaries': 'https://sandboxapi.deere.com/platform/organizations/2469981/fields/f9b7198d-a8b7-4f87-a4d2-d42c00b5fbc2/boundaries?simple=true',\n",
       "   'addBoundary': 'https://sandboxapi.deere.com/platform/organizations/2469981/fields/f9b7198d-a8b7-4f87-a4d2-d42c00b5fbc2/boundaries',\n",
       "   'fieldOperation': 'https://sandboxapi.deere.com/platform/organizations/2469981/fields/f9b7198d-a8b7-4f87-a4d2-d42c00b5fbc2/fieldOperations',\n",
       "   'mapLayerSummaries': 'https://sandboxapi.deere.com/platform/organizations/2469981/fields/f9b7198d-a8b7-4f87-a4d2-d42c00b5fbc2/mapLayerSummaries',\n",
       "   'createMapLayerSummary': 'https://sandboxapi.deere.com/platform/organizations/2469981/fields/f9b7198d-a8b7-4f87-a4d2-d42c00b5fbc2/mapLayerSummaries',\n",
       "   'lastFieldOperation': 'https://sandboxapi.deere.com/platform/organizations/2469981/fields/f9b7198d-a8b7-4f87-a4d2-d42c00b5fbc2/fieldOperations?lastFieldOperation=true',\n",
       "   'baseStationAssociation': 'https://sandboxapi.deere.com/platform/organizations/2469981/fields/f9b7198d-a8b7-4f87-a4d2-d42c00b5fbc2/baseStationAssociations',\n",
       "   'varietyLocator': 'https://sandboxapi.deere.com/platform/organizations/2469981/fields/f9b7198d-a8b7-4f87-a4d2-d42c00b5fbc2/varietyLocatorMaps',\n",
       "   'guidanceLines': 'https://sandboxapi.deere.com/platform/organizations/2469981/fields/f9b7198d-a8b7-4f87-a4d2-d42c00b5fbc2/guidanceLines',\n",
       "   'addGuidanceTrack': 'https://sandboxapi.deere.com/platform/organizations/2469981/fields/f9b7198d-a8b7-4f87-a4d2-d42c00b5fbc2/guidanceLines',\n",
       "   'deleteField': 'https://sandboxapi.deere.com/platform/organizations/2469981/fields/f9b7198d-a8b7-4f87-a4d2-d42c00b5fbc2',\n",
       "   'varietySummary': 'https://sandboxapi.deere.com/platform/organizations/2469981/fields/f9b7198d-a8b7-4f87-a4d2-d42c00b5fbc2/variety-locator-discovery',\n",
       "   'editField': 'https://sandboxapi.deere.com/platform/organizations/2469981/fields/f9b7198d-a8b7-4f87-a4d2-d42c00b5fbc2'}},\n",
       " {'@type': 'Field',\n",
       "  'name': 'Data field',\n",
       "  'farms': {'@type': 'Farms',\n",
       "   'farms': [{'@type': 'Farm',\n",
       "     'name': '---',\n",
       "     'archived': False,\n",
       "     'clientUri': 'https://sandboxapi.deere.com/platform/organizations/2469981/clients/',\n",
       "     'id': '48758010-7e48-4e59-8a2a-b776c975fa2b',\n",
       "     'links': [{'@type': 'Link',\n",
       "       'rel': 'self',\n",
       "       'uri': 'https://sandboxapi.deere.com/platform/organizations/2469981/farms/48758010-7e48-4e59-8a2a-b776c975fa2b'},\n",
       "      {'@type': 'Link',\n",
       "       'rel': 'fields',\n",
       "       'uri': 'https://sandboxapi.deere.com/platform/organizations/2469981/farms/48758010-7e48-4e59-8a2a-b776c975fa2b/fields'},\n",
       "      {'@type': 'Link',\n",
       "       'rel': 'clients',\n",
       "       'uri': 'https://sandboxapi.deere.com/platform/organizations/2469981/farms/48758010-7e48-4e59-8a2a-b776c975fa2b/clients'},\n",
       "      {'@type': 'Link',\n",
       "       'rel': 'owningOrganization',\n",
       "       'uri': 'https://sandboxapi.deere.com/platform/organizations/2469981'}]}],\n",
       "   'otherAttributes': {}},\n",
       "  'clients': {'@type': 'Clients',\n",
       "   'clients': [{'@type': 'Client',\n",
       "     'name': '---',\n",
       "     'id': 'f9052cfa-e006-4d24-af59-a39f3239a3e3',\n",
       "     'links': [{'@type': 'Link',\n",
       "       'rel': 'self',\n",
       "       'uri': 'https://sandboxapi.deere.com/platform/organizations/2469981/clients/f9052cfa-e006-4d24-af59-a39f3239a3e3'},\n",
       "      {'@type': 'Link',\n",
       "       'rel': 'fields',\n",
       "       'uri': 'https://sandboxapi.deere.com/platform/organizations/2469981/clients/f9052cfa-e006-4d24-af59-a39f3239a3e3/fields'},\n",
       "      {'@type': 'Link',\n",
       "       'rel': 'farms',\n",
       "       'uri': 'https://sandboxapi.deere.com/platform/organizations/2469981/clients/f9052cfa-e006-4d24-af59-a39f3239a3e3/farms'},\n",
       "      {'@type': 'Link',\n",
       "       'rel': 'owningOrganization',\n",
       "       'uri': 'https://sandboxapi.deere.com/platform/organizations/2469981'}]}],\n",
       "   'otherAttributes': {}},\n",
       "  'boundaries': [{'@type': 'Boundary',\n",
       "    'name': '10/9/2017 4:14:54 PM',\n",
       "    'sourceType': 'DataCard',\n",
       "    'createdTime': '2017-10-09T16:14:54.000Z',\n",
       "    'modifiedTime': '2017-10-09T16:14:54.000Z',\n",
       "    'area': {'@type': 'MeasurementAsDouble',\n",
       "     'valueAsDouble': 16.156292371726035,\n",
       "     'unit': 'ha'},\n",
       "    'workableArea': {'@type': 'MeasurementAsDouble',\n",
       "     'valueAsDouble': 15.176561287309044,\n",
       "     'unit': 'ha'},\n",
       "    'multipolygons': [{'@type': 'Polygon',\n",
       "      'rings': [{'@type': 'Ring',\n",
       "        'points': [{'@type': 'Point',\n",
       "          'lat': 41.4895845301,\n",
       "          'lon': -90.4928211},\n",
       "         {'@type': 'Point', 'lat': 41.4923356859, 'lon': -90.4928211},\n",
       "         {'@type': 'Point', 'lat': 41.494154123, 'lon': -90.4928109914},\n",
       "         {'@type': 'Point', 'lat': 41.494154123, 'lon': -90.4890101086},\n",
       "         {'@type': 'Point', 'lat': 41.4895647594, 'lon': -90.4890202176},\n",
       "         {'@type': 'Point', 'lat': 41.4895845301, 'lon': -90.4928211}],\n",
       "        'id': 0,\n",
       "        'parentId': 0,\n",
       "        'type': 'exterior',\n",
       "        'passable': True},\n",
       "       {'@type': 'Ring',\n",
       "        'points': [{'@type': 'Point',\n",
       "          'lat': 41.4902622617,\n",
       "          'lon': -90.4922246848},\n",
       "         {'@type': 'Point', 'lat': 41.490221827, 'lon': -90.4910116371},\n",
       "         {'@type': 'Point', 'lat': 41.4904341102, 'lon': -90.4898592422},\n",
       "         {'@type': 'Point', 'lat': 41.4907676984, 'lon': -90.489818807},\n",
       "         {'@type': 'Point', 'lat': 41.4908182422, 'lon': -90.4907690277},\n",
       "         {'@type': 'Point', 'lat': 41.4906059586, 'lon': -90.4920831629},\n",
       "         {'@type': 'Point', 'lat': 41.490277457, 'lon': -90.4922270105},\n",
       "         {'@type': 'Point', 'lat': 41.4902622617, 'lon': -90.4922246848}],\n",
       "        'id': 1,\n",
       "        'parentId': 0,\n",
       "        'type': 'interior',\n",
       "        'passable': True,\n",
       "        'name': 'Interior'}]}],\n",
       "    'extent': {'@type': 'Extent',\n",
       "     'topLeft': {'@type': 'Point', 'lat': 41.494154123, 'lon': -90.4928211},\n",
       "     'bottomRight': {'@type': 'Point',\n",
       "      'lat': 41.4895647594,\n",
       "      'lon': -90.4890101086}},\n",
       "    'archived': False,\n",
       "    'signalType': 'dtiSignalTypeRTK',\n",
       "    'id': 'a020c60a-917b-41dc-82fe-237e8ed2ee6d',\n",
       "    'links': [{'@type': 'Link',\n",
       "      'rel': 'self',\n",
       "      'uri': 'https://sandboxapi.deere.com/platform/organizations/2469981/fields/24c4324e-1c32-4b5c-a40c-9913ec07865e/boundaries/a020c60a-917b-41dc-82fe-237e8ed2ee6d'},\n",
       "     {'@type': 'Link',\n",
       "      'rel': 'owningOrganization',\n",
       "      'uri': 'https://sandboxapi.deere.com/platform/organizations/2469981'},\n",
       "     {'@type': 'Link',\n",
       "      'rel': 'field',\n",
       "      'uri': 'https://sandboxapi.deere.com/platform/organizations/2469981/fields/24c4324e-1c32-4b5c-a40c-9913ec07865e'}],\n",
       "    'active': True,\n",
       "    'irrigated': False}],\n",
       "  'lastModifiedTime': '2017-10-09T16:12:49.000Z',\n",
       "  'archived': False,\n",
       "  'id': '24c4324e-1c32-4b5c-a40c-9913ec07865e',\n",
       "  'links': {'self': 'https://sandboxapi.deere.com/platform/organizations/2469981/fields/24c4324e-1c32-4b5c-a40c-9913ec07865e',\n",
       "   'owningOrganization': 'https://sandboxapi.deere.com/platform/organizations/2469981',\n",
       "   'boundaries': 'https://sandboxapi.deere.com/platform/organizations/2469981/fields/24c4324e-1c32-4b5c-a40c-9913ec07865e/boundaries',\n",
       "   'simplifiedBoundaries': 'https://sandboxapi.deere.com/platform/organizations/2469981/fields/24c4324e-1c32-4b5c-a40c-9913ec07865e/boundaries?simple=true',\n",
       "   'addBoundary': 'https://sandboxapi.deere.com/platform/organizations/2469981/fields/24c4324e-1c32-4b5c-a40c-9913ec07865e/boundaries',\n",
       "   'fieldOperation': 'https://sandboxapi.deere.com/platform/organizations/2469981/fields/24c4324e-1c32-4b5c-a40c-9913ec07865e/fieldOperations',\n",
       "   'mapLayerSummaries': 'https://sandboxapi.deere.com/platform/organizations/2469981/fields/24c4324e-1c32-4b5c-a40c-9913ec07865e/mapLayerSummaries',\n",
       "   'createMapLayerSummary': 'https://sandboxapi.deere.com/platform/organizations/2469981/fields/24c4324e-1c32-4b5c-a40c-9913ec07865e/mapLayerSummaries',\n",
       "   'lastFieldOperation': 'https://sandboxapi.deere.com/platform/organizations/2469981/fields/24c4324e-1c32-4b5c-a40c-9913ec07865e/fieldOperations?lastFieldOperation=true',\n",
       "   'baseStationAssociation': 'https://sandboxapi.deere.com/platform/organizations/2469981/fields/24c4324e-1c32-4b5c-a40c-9913ec07865e/baseStationAssociations',\n",
       "   'varietyLocator': 'https://sandboxapi.deere.com/platform/organizations/2469981/fields/24c4324e-1c32-4b5c-a40c-9913ec07865e/varietyLocatorMaps',\n",
       "   'guidanceLines': 'https://sandboxapi.deere.com/platform/organizations/2469981/fields/24c4324e-1c32-4b5c-a40c-9913ec07865e/guidanceLines',\n",
       "   'addGuidanceTrack': 'https://sandboxapi.deere.com/platform/organizations/2469981/fields/24c4324e-1c32-4b5c-a40c-9913ec07865e/guidanceLines',\n",
       "   'deleteField': 'https://sandboxapi.deere.com/platform/organizations/2469981/fields/24c4324e-1c32-4b5c-a40c-9913ec07865e',\n",
       "   'varietySummary': 'https://sandboxapi.deere.com/platform/organizations/2469981/fields/24c4324e-1c32-4b5c-a40c-9913ec07865e/variety-locator-discovery',\n",
       "   'editField': 'https://sandboxapi.deere.com/platform/organizations/2469981/fields/24c4324e-1c32-4b5c-a40c-9913ec07865e'}},\n",
       " {'@type': 'Field',\n",
       "  'name': 'Field 16',\n",
       "  'farms': {'@type': 'Farms',\n",
       "   'farms': [{'@type': 'Farm',\n",
       "     'name': 'Iowa 25',\n",
       "     'archived': False,\n",
       "     'clientUri': 'https://sandboxapi.deere.com/platform/organizations/2469981/clients/',\n",
       "     'id': 'ece773ff-ef5b-495f-a54d-dc6835a66160',\n",
       "     'links': [{'@type': 'Link',\n",
       "       'rel': 'self',\n",
       "       'uri': 'https://sandboxapi.deere.com/platform/organizations/2469981/farms/ece773ff-ef5b-495f-a54d-dc6835a66160'},\n",
       "      {'@type': 'Link',\n",
       "       'rel': 'fields',\n",
       "       'uri': 'https://sandboxapi.deere.com/platform/organizations/2469981/farms/ece773ff-ef5b-495f-a54d-dc6835a66160/fields'},\n",
       "      {'@type': 'Link',\n",
       "       'rel': 'clients',\n",
       "       'uri': 'https://sandboxapi.deere.com/platform/organizations/2469981/farms/ece773ff-ef5b-495f-a54d-dc6835a66160/clients'},\n",
       "      {'@type': 'Link',\n",
       "       'rel': 'owningOrganization',\n",
       "       'uri': 'https://sandboxapi.deere.com/platform/organizations/2469981'}]}],\n",
       "   'otherAttributes': {}},\n",
       "  'clients': {'@type': 'Clients',\n",
       "   'clients': [{'@type': 'Client',\n",
       "     'name': 'John Deere ISG',\n",
       "     'id': '6d8a8ff0-1ee0-45c2-8709-46e92d971b29',\n",
       "     'links': [{'@type': 'Link',\n",
       "       'rel': 'self',\n",
       "       'uri': 'https://sandboxapi.deere.com/platform/organizations/2469981/clients/6d8a8ff0-1ee0-45c2-8709-46e92d971b29'},\n",
       "      {'@type': 'Link',\n",
       "       'rel': 'fields',\n",
       "       'uri': 'https://sandboxapi.deere.com/platform/organizations/2469981/clients/6d8a8ff0-1ee0-45c2-8709-46e92d971b29/fields'},\n",
       "      {'@type': 'Link',\n",
       "       'rel': 'farms',\n",
       "       'uri': 'https://sandboxapi.deere.com/platform/organizations/2469981/clients/6d8a8ff0-1ee0-45c2-8709-46e92d971b29/farms'},\n",
       "      {'@type': 'Link',\n",
       "       'rel': 'owningOrganization',\n",
       "       'uri': 'https://sandboxapi.deere.com/platform/organizations/2469981'}]}],\n",
       "   'otherAttributes': {}},\n",
       "  'boundaries': [{'@type': 'Boundary',\n",
       "    'name': '6/6/2023 9:09:34 PM',\n",
       "    'sourceType': 'DataCard',\n",
       "    'createdTime': '1970-01-01T00:00:00.000Z',\n",
       "    'modifiedTime': '1970-01-01T00:00:00.000Z',\n",
       "    'area': {'@type': 'MeasurementAsDouble',\n",
       "     'valueAsDouble': 30.196162810492517,\n",
       "     'unit': 'ha'},\n",
       "    'workableArea': {'@type': 'MeasurementAsDouble',\n",
       "     'valueAsDouble': 30.196162810492517,\n",
       "     'unit': 'ha'},\n",
       "    'multipolygons': [{'@type': 'Polygon',\n",
       "      'rings': [{'@type': 'Ring',\n",
       "        'points': [{'@type': 'Point',\n",
       "          'lat': 41.20111740229999,\n",
       "          'lon': -94.5470890001},\n",
       "         {'@type': 'Point', 'lat': 41.20111740229999, 'lon': -94.5471616762},\n",
       "         {'@type': 'Point', 'lat': 41.2078636024, 'lon': -94.54716168369998},\n",
       "         {'@type': 'Point', 'lat': 41.20796789019999, 'lon': -94.5471472759},\n",
       "         {'@type': 'Point', 'lat': 41.20796789019999, 'lon': -94.5425704106},\n",
       "         {'@type': 'Point',\n",
       "          'lat': 41.207956457799995,\n",
       "          'lon': -94.54243231629998},\n",
       "         {'@type': 'Point', 'lat': 41.20121619769999, 'lon': -94.5424323238},\n",
       "         {'@type': 'Point',\n",
       "          'lat': 41.201111909699996,\n",
       "          'lon': -94.54244782659997},\n",
       "         {'@type': 'Point', 'lat': 41.201111909699996, 'lon': -94.5453620957},\n",
       "         {'@type': 'Point', 'lat': 41.20111740229999, 'lon': -94.5470890001}],\n",
       "        'id': 0,\n",
       "        'parentId': 0,\n",
       "        'type': 'exterior',\n",
       "        'passable': True}]}],\n",
       "    'extent': {'@type': 'Extent',\n",
       "     'topLeft': {'@type': 'Point',\n",
       "      'lat': 41.20796789019999,\n",
       "      'lon': -94.54716168369998},\n",
       "     'bottomRight': {'@type': 'Point',\n",
       "      'lat': 41.201111909699996,\n",
       "      'lon': -94.54243231629998}},\n",
       "    'archived': False,\n",
       "    'id': 'b9d9f18c-e62e-fbb0-a272-66cca632a69f',\n",
       "    'links': [{'@type': 'Link',\n",
       "      'rel': 'self',\n",
       "      'uri': 'https://sandboxapi.deere.com/platform/organizations/2469981/fields/d0e3cc74-5a32-4266-a362-403f077d9928/boundaries/b9d9f18c-e62e-fbb0-a272-66cca632a69f'},\n",
       "     {'@type': 'Link',\n",
       "      'rel': 'owningOrganization',\n",
       "      'uri': 'https://sandboxapi.deere.com/platform/organizations/2469981'},\n",
       "     {'@type': 'Link',\n",
       "      'rel': 'field',\n",
       "      'uri': 'https://sandboxapi.deere.com/platform/organizations/2469981/fields/d0e3cc74-5a32-4266-a362-403f077d9928'}],\n",
       "    'active': True,\n",
       "    'irrigated': False}],\n",
       "  'lastModifiedTime': '2022-09-23T23:01:34.941Z',\n",
       "  'archived': False,\n",
       "  'id': 'd0e3cc74-5a32-4266-a362-403f077d9928',\n",
       "  'links': {'self': 'https://sandboxapi.deere.com/platform/organizations/2469981/fields/d0e3cc74-5a32-4266-a362-403f077d9928',\n",
       "   'owningOrganization': 'https://sandboxapi.deere.com/platform/organizations/2469981',\n",
       "   'boundaries': 'https://sandboxapi.deere.com/platform/organizations/2469981/fields/d0e3cc74-5a32-4266-a362-403f077d9928/boundaries',\n",
       "   'simplifiedBoundaries': 'https://sandboxapi.deere.com/platform/organizations/2469981/fields/d0e3cc74-5a32-4266-a362-403f077d9928/boundaries?simple=true',\n",
       "   'addBoundary': 'https://sandboxapi.deere.com/platform/organizations/2469981/fields/d0e3cc74-5a32-4266-a362-403f077d9928/boundaries',\n",
       "   'fieldOperation': 'https://sandboxapi.deere.com/platform/organizations/2469981/fields/d0e3cc74-5a32-4266-a362-403f077d9928/fieldOperations',\n",
       "   'mapLayerSummaries': 'https://sandboxapi.deere.com/platform/organizations/2469981/fields/d0e3cc74-5a32-4266-a362-403f077d9928/mapLayerSummaries',\n",
       "   'createMapLayerSummary': 'https://sandboxapi.deere.com/platform/organizations/2469981/fields/d0e3cc74-5a32-4266-a362-403f077d9928/mapLayerSummaries',\n",
       "   'lastFieldOperation': 'https://sandboxapi.deere.com/platform/organizations/2469981/fields/d0e3cc74-5a32-4266-a362-403f077d9928/fieldOperations?lastFieldOperation=true',\n",
       "   'baseStationAssociation': 'https://sandboxapi.deere.com/platform/organizations/2469981/fields/d0e3cc74-5a32-4266-a362-403f077d9928/baseStationAssociations',\n",
       "   'varietyLocator': 'https://sandboxapi.deere.com/platform/organizations/2469981/fields/d0e3cc74-5a32-4266-a362-403f077d9928/varietyLocatorMaps',\n",
       "   'guidanceLines': 'https://sandboxapi.deere.com/platform/organizations/2469981/fields/d0e3cc74-5a32-4266-a362-403f077d9928/guidanceLines',\n",
       "   'addGuidanceTrack': 'https://sandboxapi.deere.com/platform/organizations/2469981/fields/d0e3cc74-5a32-4266-a362-403f077d9928/guidanceLines',\n",
       "   'deleteField': 'https://sandboxapi.deere.com/platform/organizations/2469981/fields/d0e3cc74-5a32-4266-a362-403f077d9928',\n",
       "   'varietySummary': 'https://sandboxapi.deere.com/platform/organizations/2469981/fields/d0e3cc74-5a32-4266-a362-403f077d9928/variety-locator-discovery',\n",
       "   'editField': 'https://sandboxapi.deere.com/platform/organizations/2469981/fields/d0e3cc74-5a32-4266-a362-403f077d9928'}},\n",
       " {'@type': 'Field',\n",
       "  'name': 'Field 17',\n",
       "  'farms': {'@type': 'Farms',\n",
       "   'farms': [{'@type': 'Farm',\n",
       "     'name': 'Iowa 25',\n",
       "     'archived': False,\n",
       "     'clientUri': 'https://sandboxapi.deere.com/platform/organizations/2469981/clients/',\n",
       "     'id': 'ece773ff-ef5b-495f-a54d-dc6835a66160',\n",
       "     'links': [{'@type': 'Link',\n",
       "       'rel': 'self',\n",
       "       'uri': 'https://sandboxapi.deere.com/platform/organizations/2469981/farms/ece773ff-ef5b-495f-a54d-dc6835a66160'},\n",
       "      {'@type': 'Link',\n",
       "       'rel': 'fields',\n",
       "       'uri': 'https://sandboxapi.deere.com/platform/organizations/2469981/farms/ece773ff-ef5b-495f-a54d-dc6835a66160/fields'},\n",
       "      {'@type': 'Link',\n",
       "       'rel': 'clients',\n",
       "       'uri': 'https://sandboxapi.deere.com/platform/organizations/2469981/farms/ece773ff-ef5b-495f-a54d-dc6835a66160/clients'},\n",
       "      {'@type': 'Link',\n",
       "       'rel': 'owningOrganization',\n",
       "       'uri': 'https://sandboxapi.deere.com/platform/organizations/2469981'}]}],\n",
       "   'otherAttributes': {}},\n",
       "  'clients': {'@type': 'Clients',\n",
       "   'clients': [{'@type': 'Client',\n",
       "     'name': 'John Deere ISG',\n",
       "     'id': '6d8a8ff0-1ee0-45c2-8709-46e92d971b29',\n",
       "     'links': [{'@type': 'Link',\n",
       "       'rel': 'self',\n",
       "       'uri': 'https://sandboxapi.deere.com/platform/organizations/2469981/clients/6d8a8ff0-1ee0-45c2-8709-46e92d971b29'},\n",
       "      {'@type': 'Link',\n",
       "       'rel': 'fields',\n",
       "       'uri': 'https://sandboxapi.deere.com/platform/organizations/2469981/clients/6d8a8ff0-1ee0-45c2-8709-46e92d971b29/fields'},\n",
       "      {'@type': 'Link',\n",
       "       'rel': 'farms',\n",
       "       'uri': 'https://sandboxapi.deere.com/platform/organizations/2469981/clients/6d8a8ff0-1ee0-45c2-8709-46e92d971b29/farms'},\n",
       "      {'@type': 'Link',\n",
       "       'rel': 'owningOrganization',\n",
       "       'uri': 'https://sandboxapi.deere.com/platform/organizations/2469981'}]}],\n",
       "   'otherAttributes': {}},\n",
       "  'boundaries': [{'@type': 'Boundary',\n",
       "    'name': '6/6/2023 9:09:35 PM',\n",
       "    'sourceType': 'DataCard',\n",
       "    'createdTime': '1970-01-01T00:00:00.000Z',\n",
       "    'modifiedTime': '1970-01-01T00:00:00.000Z',\n",
       "    'area': {'@type': 'MeasurementAsDouble',\n",
       "     'valueAsDouble': 30.41825501767844,\n",
       "     'unit': 'ha'},\n",
       "    'workableArea': {'@type': 'MeasurementAsDouble',\n",
       "     'valueAsDouble': 30.41825501767844,\n",
       "     'unit': 'ha'},\n",
       "    'multipolygons': [{'@type': 'Polygon',\n",
       "      'rings': [{'@type': 'Ring',\n",
       "        'points': [{'@type': 'Point',\n",
       "          'lat': 41.201104609,\n",
       "          'lon': -94.54239394949998},\n",
       "         {'@type': 'Point', 'lat': 41.201104609, 'lon': -94.54246662569997},\n",
       "         {'@type': 'Point',\n",
       "          'lat': 41.20111185479998,\n",
       "          'lon': -94.54246662549998},\n",
       "         {'@type': 'Point', 'lat': 41.2011336826, 'lon': -94.5425776762},\n",
       "         {'@type': 'Point', 'lat': 41.2078718323, 'lon': -94.5425776837},\n",
       "         {'@type': 'Point', 'lat': 41.20796789019999, 'lon': -94.5425520371},\n",
       "         {'@type': 'Point', 'lat': 41.2079678903, 'lon': -94.53794051280002},\n",
       "         {'@type': 'Point',\n",
       "          'lat': 41.20791391499999,\n",
       "          'lon': -94.53781331639999},\n",
       "         {'@type': 'Point',\n",
       "          'lat': 41.201207967799995,\n",
       "          'lon': -94.53781332379998},\n",
       "         {'@type': 'Point',\n",
       "          'lat': 41.201111909699996,\n",
       "          'lon': -94.53788478889997},\n",
       "         {'@type': 'Point',\n",
       "          'lat': 41.201111909699996,\n",
       "          'lon': -94.54245049279997},\n",
       "         {'@type': 'Point', 'lat': 41.201104609, 'lon': -94.54239394949998}],\n",
       "        'id': 0,\n",
       "        'parentId': 0,\n",
       "        'type': 'exterior',\n",
       "        'passable': True}]}],\n",
       "    'extent': {'@type': 'Extent',\n",
       "     'topLeft': {'@type': 'Point',\n",
       "      'lat': 41.2079678903,\n",
       "      'lon': -94.5425776837},\n",
       "     'bottomRight': {'@type': 'Point',\n",
       "      'lat': 41.201104609,\n",
       "      'lon': -94.53781331639999}},\n",
       "    'archived': False,\n",
       "    'id': '1022ad43-105b-d29b-e767-b90205f765b3',\n",
       "    'links': [{'@type': 'Link',\n",
       "      'rel': 'self',\n",
       "      'uri': 'https://sandboxapi.deere.com/platform/organizations/2469981/fields/ede243fd-c570-4c1d-8438-378f4e1c76ee/boundaries/1022ad43-105b-d29b-e767-b90205f765b3'},\n",
       "     {'@type': 'Link',\n",
       "      'rel': 'owningOrganization',\n",
       "      'uri': 'https://sandboxapi.deere.com/platform/organizations/2469981'},\n",
       "     {'@type': 'Link',\n",
       "      'rel': 'field',\n",
       "      'uri': 'https://sandboxapi.deere.com/platform/organizations/2469981/fields/ede243fd-c570-4c1d-8438-378f4e1c76ee'}],\n",
       "    'active': True,\n",
       "    'irrigated': False}],\n",
       "  'lastModifiedTime': '2022-09-28T20:00:38.954Z',\n",
       "  'archived': False,\n",
       "  'id': 'ede243fd-c570-4c1d-8438-378f4e1c76ee',\n",
       "  'links': {'self': 'https://sandboxapi.deere.com/platform/organizations/2469981/fields/ede243fd-c570-4c1d-8438-378f4e1c76ee',\n",
       "   'owningOrganization': 'https://sandboxapi.deere.com/platform/organizations/2469981',\n",
       "   'boundaries': 'https://sandboxapi.deere.com/platform/organizations/2469981/fields/ede243fd-c570-4c1d-8438-378f4e1c76ee/boundaries',\n",
       "   'simplifiedBoundaries': 'https://sandboxapi.deere.com/platform/organizations/2469981/fields/ede243fd-c570-4c1d-8438-378f4e1c76ee/boundaries?simple=true',\n",
       "   'addBoundary': 'https://sandboxapi.deere.com/platform/organizations/2469981/fields/ede243fd-c570-4c1d-8438-378f4e1c76ee/boundaries',\n",
       "   'fieldOperation': 'https://sandboxapi.deere.com/platform/organizations/2469981/fields/ede243fd-c570-4c1d-8438-378f4e1c76ee/fieldOperations',\n",
       "   'mapLayerSummaries': 'https://sandboxapi.deere.com/platform/organizations/2469981/fields/ede243fd-c570-4c1d-8438-378f4e1c76ee/mapLayerSummaries',\n",
       "   'createMapLayerSummary': 'https://sandboxapi.deere.com/platform/organizations/2469981/fields/ede243fd-c570-4c1d-8438-378f4e1c76ee/mapLayerSummaries',\n",
       "   'lastFieldOperation': 'https://sandboxapi.deere.com/platform/organizations/2469981/fields/ede243fd-c570-4c1d-8438-378f4e1c76ee/fieldOperations?lastFieldOperation=true',\n",
       "   'baseStationAssociation': 'https://sandboxapi.deere.com/platform/organizations/2469981/fields/ede243fd-c570-4c1d-8438-378f4e1c76ee/baseStationAssociations',\n",
       "   'varietyLocator': 'https://sandboxapi.deere.com/platform/organizations/2469981/fields/ede243fd-c570-4c1d-8438-378f4e1c76ee/varietyLocatorMaps',\n",
       "   'guidanceLines': 'https://sandboxapi.deere.com/platform/organizations/2469981/fields/ede243fd-c570-4c1d-8438-378f4e1c76ee/guidanceLines',\n",
       "   'addGuidanceTrack': 'https://sandboxapi.deere.com/platform/organizations/2469981/fields/ede243fd-c570-4c1d-8438-378f4e1c76ee/guidanceLines',\n",
       "   'deleteField': 'https://sandboxapi.deere.com/platform/organizations/2469981/fields/ede243fd-c570-4c1d-8438-378f4e1c76ee',\n",
       "   'varietySummary': 'https://sandboxapi.deere.com/platform/organizations/2469981/fields/ede243fd-c570-4c1d-8438-378f4e1c76ee/variety-locator-discovery',\n",
       "   'editField': 'https://sandboxapi.deere.com/platform/organizations/2469981/fields/ede243fd-c570-4c1d-8438-378f4e1c76ee'}},\n",
       " {'@type': 'Field',\n",
       "  'name': 'Field 18',\n",
       "  'farms': {'@type': 'Farms',\n",
       "   'farms': [{'@type': 'Farm',\n",
       "     'name': 'Iowa 25',\n",
       "     'archived': False,\n",
       "     'clientUri': 'https://sandboxapi.deere.com/platform/organizations/2469981/clients/',\n",
       "     'id': 'ece773ff-ef5b-495f-a54d-dc6835a66160',\n",
       "     'links': [{'@type': 'Link',\n",
       "       'rel': 'self',\n",
       "       'uri': 'https://sandboxapi.deere.com/platform/organizations/2469981/farms/ece773ff-ef5b-495f-a54d-dc6835a66160'},\n",
       "      {'@type': 'Link',\n",
       "       'rel': 'fields',\n",
       "       'uri': 'https://sandboxapi.deere.com/platform/organizations/2469981/farms/ece773ff-ef5b-495f-a54d-dc6835a66160/fields'},\n",
       "      {'@type': 'Link',\n",
       "       'rel': 'clients',\n",
       "       'uri': 'https://sandboxapi.deere.com/platform/organizations/2469981/farms/ece773ff-ef5b-495f-a54d-dc6835a66160/clients'},\n",
       "      {'@type': 'Link',\n",
       "       'rel': 'owningOrganization',\n",
       "       'uri': 'https://sandboxapi.deere.com/platform/organizations/2469981'}]}],\n",
       "   'otherAttributes': {}},\n",
       "  'clients': {'@type': 'Clients',\n",
       "   'clients': [{'@type': 'Client',\n",
       "     'name': 'John Deere ISG',\n",
       "     'id': '6d8a8ff0-1ee0-45c2-8709-46e92d971b29',\n",
       "     'links': [{'@type': 'Link',\n",
       "       'rel': 'self',\n",
       "       'uri': 'https://sandboxapi.deere.com/platform/organizations/2469981/clients/6d8a8ff0-1ee0-45c2-8709-46e92d971b29'},\n",
       "      {'@type': 'Link',\n",
       "       'rel': 'fields',\n",
       "       'uri': 'https://sandboxapi.deere.com/platform/organizations/2469981/clients/6d8a8ff0-1ee0-45c2-8709-46e92d971b29/fields'},\n",
       "      {'@type': 'Link',\n",
       "       'rel': 'farms',\n",
       "       'uri': 'https://sandboxapi.deere.com/platform/organizations/2469981/clients/6d8a8ff0-1ee0-45c2-8709-46e92d971b29/farms'},\n",
       "      {'@type': 'Link',\n",
       "       'rel': 'owningOrganization',\n",
       "       'uri': 'https://sandboxapi.deere.com/platform/organizations/2469981'}]}],\n",
       "   'otherAttributes': {}},\n",
       "  'boundaries': [{'@type': 'Boundary',\n",
       "    'name': 'Field 18-Boundary',\n",
       "    'sourceType': 'DataCard',\n",
       "    'createdTime': '2023-02-17T05:28:40.000Z',\n",
       "    'modifiedTime': '2023-02-17T05:28:40.000Z',\n",
       "    'area': {'@type': 'MeasurementAsDouble',\n",
       "     'valueAsDouble': 63.332762480820065,\n",
       "     'unit': 'ha'},\n",
       "    'workableArea': {'@type': 'MeasurementAsDouble',\n",
       "     'valueAsDouble': 63.332762480820065,\n",
       "     'unit': 'ha'},\n",
       "    'multipolygons': [{'@type': 'Polygon',\n",
       "      'rings': [{'@type': 'Ring',\n",
       "        'points': [{'@type': 'Point',\n",
       "          'lat': 41.201207968,\n",
       "          'lon': -94.5378314932},\n",
       "         {'@type': 'Point', 'lat': 41.2012200435, 'lon': -94.5378314928},\n",
       "         {'@type': 'Point', 'lat': 41.2011385131, 'lon': -94.5379405072},\n",
       "         {'@type': 'Point', 'lat': 41.2078718323, 'lon': -94.5379405128},\n",
       "         {'@type': 'Point', 'lat': 41.2079541677, 'lon': -94.5379234573},\n",
       "         {'@type': 'Point', 'lat': 41.2079541677, 'lon': -94.5280915128},\n",
       "         {'@type': 'Point', 'lat': 41.2079372622, 'lon': -94.5279824873},\n",
       "         {'@type': 'Point', 'lat': 41.2012079678, 'lon': -94.5279824928},\n",
       "         {'@type': 'Point', 'lat': 41.2011256323, 'lon': -94.5279974151},\n",
       "         {'@type': 'Point', 'lat': 41.2011256323, 'lon': -94.5378314928},\n",
       "         {'@type': 'Point', 'lat': 41.201207968, 'lon': -94.5378314932}],\n",
       "        'id': 1,\n",
       "        'parentId': 0,\n",
       "        'type': 'exterior',\n",
       "        'passable': True,\n",
       "        'name': 'Field 18-Boundary'}]}],\n",
       "    'extent': {'@type': 'Extent',\n",
       "     'topLeft': {'@type': 'Point',\n",
       "      'lat': 41.2079541677,\n",
       "      'lon': -94.5379405128},\n",
       "     'bottomRight': {'@type': 'Point',\n",
       "      'lat': 41.2011256323,\n",
       "      'lon': -94.5279824873}},\n",
       "    'archived': False,\n",
       "    'signalType': 'dtiSignalTypeRTK',\n",
       "    'id': 'f9b7d355-744f-4f1a-8d91-8261ba47c0a5',\n",
       "    'links': [{'@type': 'Link',\n",
       "      'rel': 'self',\n",
       "      'uri': 'https://sandboxapi.deere.com/platform/organizations/2469981/fields/65997c6f-5299-4121-b833-86a3aa481faf/boundaries/f9b7d355-744f-4f1a-8d91-8261ba47c0a5'},\n",
       "     {'@type': 'Link',\n",
       "      'rel': 'owningOrganization',\n",
       "      'uri': 'https://sandboxapi.deere.com/platform/organizations/2469981'},\n",
       "     {'@type': 'Link',\n",
       "      'rel': 'field',\n",
       "      'uri': 'https://sandboxapi.deere.com/platform/organizations/2469981/fields/65997c6f-5299-4121-b833-86a3aa481faf'}],\n",
       "    'active': True,\n",
       "    'irrigated': False}],\n",
       "  'lastModifiedTime': '2022-11-01T15:25:52.108Z',\n",
       "  'archived': False,\n",
       "  'id': '65997c6f-5299-4121-b833-86a3aa481faf',\n",
       "  'links': {'self': 'https://sandboxapi.deere.com/platform/organizations/2469981/fields/65997c6f-5299-4121-b833-86a3aa481faf',\n",
       "   'owningOrganization': 'https://sandboxapi.deere.com/platform/organizations/2469981',\n",
       "   'boundaries': 'https://sandboxapi.deere.com/platform/organizations/2469981/fields/65997c6f-5299-4121-b833-86a3aa481faf/boundaries',\n",
       "   'simplifiedBoundaries': 'https://sandboxapi.deere.com/platform/organizations/2469981/fields/65997c6f-5299-4121-b833-86a3aa481faf/boundaries?simple=true',\n",
       "   'addBoundary': 'https://sandboxapi.deere.com/platform/organizations/2469981/fields/65997c6f-5299-4121-b833-86a3aa481faf/boundaries',\n",
       "   'fieldOperation': 'https://sandboxapi.deere.com/platform/organizations/2469981/fields/65997c6f-5299-4121-b833-86a3aa481faf/fieldOperations',\n",
       "   'mapLayerSummaries': 'https://sandboxapi.deere.com/platform/organizations/2469981/fields/65997c6f-5299-4121-b833-86a3aa481faf/mapLayerSummaries',\n",
       "   'createMapLayerSummary': 'https://sandboxapi.deere.com/platform/organizations/2469981/fields/65997c6f-5299-4121-b833-86a3aa481faf/mapLayerSummaries',\n",
       "   'lastFieldOperation': 'https://sandboxapi.deere.com/platform/organizations/2469981/fields/65997c6f-5299-4121-b833-86a3aa481faf/fieldOperations?lastFieldOperation=true',\n",
       "   'baseStationAssociation': 'https://sandboxapi.deere.com/platform/organizations/2469981/fields/65997c6f-5299-4121-b833-86a3aa481faf/baseStationAssociations',\n",
       "   'varietyLocator': 'https://sandboxapi.deere.com/platform/organizations/2469981/fields/65997c6f-5299-4121-b833-86a3aa481faf/varietyLocatorMaps',\n",
       "   'guidanceLines': 'https://sandboxapi.deere.com/platform/organizations/2469981/fields/65997c6f-5299-4121-b833-86a3aa481faf/guidanceLines',\n",
       "   'addGuidanceTrack': 'https://sandboxapi.deere.com/platform/organizations/2469981/fields/65997c6f-5299-4121-b833-86a3aa481faf/guidanceLines',\n",
       "   'deleteField': 'https://sandboxapi.deere.com/platform/organizations/2469981/fields/65997c6f-5299-4121-b833-86a3aa481faf',\n",
       "   'varietySummary': 'https://sandboxapi.deere.com/platform/organizations/2469981/fields/65997c6f-5299-4121-b833-86a3aa481faf/variety-locator-discovery',\n",
       "   'editField': 'https://sandboxapi.deere.com/platform/organizations/2469981/fields/65997c6f-5299-4121-b833-86a3aa481faf'}},\n",
       " {'@type': 'Field',\n",
       "  'name': 'Field 19',\n",
       "  'farms': {'@type': 'Farms',\n",
       "   'farms': [{'@type': 'Farm',\n",
       "     'name': 'Iowa 25',\n",
       "     'archived': False,\n",
       "     'clientUri': 'https://sandboxapi.deere.com/platform/organizations/2469981/clients/',\n",
       "     'id': 'ece773ff-ef5b-495f-a54d-dc6835a66160',\n",
       "     'links': [{'@type': 'Link',\n",
       "       'rel': 'self',\n",
       "       'uri': 'https://sandboxapi.deere.com/platform/organizations/2469981/farms/ece773ff-ef5b-495f-a54d-dc6835a66160'},\n",
       "      {'@type': 'Link',\n",
       "       'rel': 'fields',\n",
       "       'uri': 'https://sandboxapi.deere.com/platform/organizations/2469981/farms/ece773ff-ef5b-495f-a54d-dc6835a66160/fields'},\n",
       "      {'@type': 'Link',\n",
       "       'rel': 'clients',\n",
       "       'uri': 'https://sandboxapi.deere.com/platform/organizations/2469981/farms/ece773ff-ef5b-495f-a54d-dc6835a66160/clients'},\n",
       "      {'@type': 'Link',\n",
       "       'rel': 'owningOrganization',\n",
       "       'uri': 'https://sandboxapi.deere.com/platform/organizations/2469981'}]}],\n",
       "   'otherAttributes': {}},\n",
       "  'clients': {'@type': 'Clients',\n",
       "   'clients': [{'@type': 'Client',\n",
       "     'name': 'John Deere ISG',\n",
       "     'id': '6d8a8ff0-1ee0-45c2-8709-46e92d971b29',\n",
       "     'links': [{'@type': 'Link',\n",
       "       'rel': 'self',\n",
       "       'uri': 'https://sandboxapi.deere.com/platform/organizations/2469981/clients/6d8a8ff0-1ee0-45c2-8709-46e92d971b29'},\n",
       "      {'@type': 'Link',\n",
       "       'rel': 'fields',\n",
       "       'uri': 'https://sandboxapi.deere.com/platform/organizations/2469981/clients/6d8a8ff0-1ee0-45c2-8709-46e92d971b29/fields'},\n",
       "      {'@type': 'Link',\n",
       "       'rel': 'farms',\n",
       "       'uri': 'https://sandboxapi.deere.com/platform/organizations/2469981/clients/6d8a8ff0-1ee0-45c2-8709-46e92d971b29/farms'},\n",
       "      {'@type': 'Link',\n",
       "       'rel': 'owningOrganization',\n",
       "       'uri': 'https://sandboxapi.deere.com/platform/organizations/2469981'}]}],\n",
       "   'otherAttributes': {}},\n",
       "  'lastModifiedTime': '2022-12-19T20:31:20.000Z',\n",
       "  'archived': False,\n",
       "  'id': '7cf55985-38b2-44ec-b906-a54cb205e33c',\n",
       "  'links': {'self': 'https://sandboxapi.deere.com/platform/organizations/2469981/fields/7cf55985-38b2-44ec-b906-a54cb205e33c',\n",
       "   'owningOrganization': 'https://sandboxapi.deere.com/platform/organizations/2469981',\n",
       "   'boundaries': 'https://sandboxapi.deere.com/platform/organizations/2469981/fields/7cf55985-38b2-44ec-b906-a54cb205e33c/boundaries',\n",
       "   'simplifiedBoundaries': 'https://sandboxapi.deere.com/platform/organizations/2469981/fields/7cf55985-38b2-44ec-b906-a54cb205e33c/boundaries?simple=true',\n",
       "   'addBoundary': 'https://sandboxapi.deere.com/platform/organizations/2469981/fields/7cf55985-38b2-44ec-b906-a54cb205e33c/boundaries',\n",
       "   'fieldOperation': 'https://sandboxapi.deere.com/platform/organizations/2469981/fields/7cf55985-38b2-44ec-b906-a54cb205e33c/fieldOperations',\n",
       "   'mapLayerSummaries': 'https://sandboxapi.deere.com/platform/organizations/2469981/fields/7cf55985-38b2-44ec-b906-a54cb205e33c/mapLayerSummaries',\n",
       "   'createMapLayerSummary': 'https://sandboxapi.deere.com/platform/organizations/2469981/fields/7cf55985-38b2-44ec-b906-a54cb205e33c/mapLayerSummaries',\n",
       "   'lastFieldOperation': 'https://sandboxapi.deere.com/platform/organizations/2469981/fields/7cf55985-38b2-44ec-b906-a54cb205e33c/fieldOperations?lastFieldOperation=true',\n",
       "   'baseStationAssociation': 'https://sandboxapi.deere.com/platform/organizations/2469981/fields/7cf55985-38b2-44ec-b906-a54cb205e33c/baseStationAssociations',\n",
       "   'varietyLocator': 'https://sandboxapi.deere.com/platform/organizations/2469981/fields/7cf55985-38b2-44ec-b906-a54cb205e33c/varietyLocatorMaps',\n",
       "   'guidanceLines': 'https://sandboxapi.deere.com/platform/organizations/2469981/fields/7cf55985-38b2-44ec-b906-a54cb205e33c/guidanceLines',\n",
       "   'addGuidanceTrack': 'https://sandboxapi.deere.com/platform/organizations/2469981/fields/7cf55985-38b2-44ec-b906-a54cb205e33c/guidanceLines',\n",
       "   'deleteField': 'https://sandboxapi.deere.com/platform/organizations/2469981/fields/7cf55985-38b2-44ec-b906-a54cb205e33c',\n",
       "   'varietySummary': 'https://sandboxapi.deere.com/platform/organizations/2469981/fields/7cf55985-38b2-44ec-b906-a54cb205e33c/variety-locator-discovery',\n",
       "   'editField': 'https://sandboxapi.deere.com/platform/organizations/2469981/fields/7cf55985-38b2-44ec-b906-a54cb205e33c'}},\n",
       " {'@type': 'Field',\n",
       "  'name': 'Field 23',\n",
       "  'farms': {'@type': 'Farms',\n",
       "   'farms': [{'@type': 'Farm',\n",
       "     'name': 'Iowa 25',\n",
       "     'archived': False,\n",
       "     'clientUri': 'https://sandboxapi.deere.com/platform/organizations/2469981/clients/',\n",
       "     'id': 'ece773ff-ef5b-495f-a54d-dc6835a66160',\n",
       "     'links': [{'@type': 'Link',\n",
       "       'rel': 'self',\n",
       "       'uri': 'https://sandboxapi.deere.com/platform/organizations/2469981/farms/ece773ff-ef5b-495f-a54d-dc6835a66160'},\n",
       "      {'@type': 'Link',\n",
       "       'rel': 'fields',\n",
       "       'uri': 'https://sandboxapi.deere.com/platform/organizations/2469981/farms/ece773ff-ef5b-495f-a54d-dc6835a66160/fields'},\n",
       "      {'@type': 'Link',\n",
       "       'rel': 'clients',\n",
       "       'uri': 'https://sandboxapi.deere.com/platform/organizations/2469981/farms/ece773ff-ef5b-495f-a54d-dc6835a66160/clients'},\n",
       "      {'@type': 'Link',\n",
       "       'rel': 'owningOrganization',\n",
       "       'uri': 'https://sandboxapi.deere.com/platform/organizations/2469981'}]}],\n",
       "   'otherAttributes': {}},\n",
       "  'clients': {'@type': 'Clients',\n",
       "   'clients': [{'@type': 'Client',\n",
       "     'name': 'John Deere ISG',\n",
       "     'id': '6d8a8ff0-1ee0-45c2-8709-46e92d971b29',\n",
       "     'links': [{'@type': 'Link',\n",
       "       'rel': 'self',\n",
       "       'uri': 'https://sandboxapi.deere.com/platform/organizations/2469981/clients/6d8a8ff0-1ee0-45c2-8709-46e92d971b29'},\n",
       "      {'@type': 'Link',\n",
       "       'rel': 'fields',\n",
       "       'uri': 'https://sandboxapi.deere.com/platform/organizations/2469981/clients/6d8a8ff0-1ee0-45c2-8709-46e92d971b29/fields'},\n",
       "      {'@type': 'Link',\n",
       "       'rel': 'farms',\n",
       "       'uri': 'https://sandboxapi.deere.com/platform/organizations/2469981/clients/6d8a8ff0-1ee0-45c2-8709-46e92d971b29/farms'},\n",
       "      {'@type': 'Link',\n",
       "       'rel': 'owningOrganization',\n",
       "       'uri': 'https://sandboxapi.deere.com/platform/organizations/2469981'}]}],\n",
       "   'otherAttributes': {}},\n",
       "  'boundaries': [{'@type': 'Boundary',\n",
       "    'name': '6/6/2023 9:09:35 PM',\n",
       "    'sourceType': 'DataCard',\n",
       "    'createdTime': '1970-01-01T00:00:00.000Z',\n",
       "    'modifiedTime': '1970-01-01T00:00:00.000Z',\n",
       "    'area': {'@type': 'MeasurementAsDouble',\n",
       "     'valueAsDouble': 27.664357282972336,\n",
       "     'unit': 'ha'},\n",
       "    'workableArea': {'@type': 'MeasurementAsDouble',\n",
       "     'valueAsDouble': 27.664357282972336,\n",
       "     'unit': 'ha'},\n",
       "    'multipolygons': [{'@type': 'Polygon',\n",
       "      'rings': [{'@type': 'Ring',\n",
       "        'points': [{'@type': 'Point',\n",
       "          'lat': 41.186937590499994,\n",
       "          'lon': -94.54701633949999},\n",
       "         {'@type': 'Point', 'lat': 41.1936271095, 'lon': -94.5470163321},\n",
       "         {'@type': 'Point', 'lat': 41.1936271095, 'lon': -94.5425776679},\n",
       "         {'@type': 'Point', 'lat': 41.186937590499994, 'lon': -94.5425776607},\n",
       "         {'@type': 'Point',\n",
       "          'lat': 41.186937590499994,\n",
       "          'lon': -94.54701633949999}],\n",
       "        'id': 0,\n",
       "        'parentId': 0,\n",
       "        'type': 'exterior',\n",
       "        'passable': True}]}],\n",
       "    'extent': {'@type': 'Extent',\n",
       "     'topLeft': {'@type': 'Point',\n",
       "      'lat': 41.1936271095,\n",
       "      'lon': -94.54701633949999},\n",
       "     'bottomRight': {'@type': 'Point',\n",
       "      'lat': 41.186937590499994,\n",
       "      'lon': -94.5425776607}},\n",
       "    'archived': False,\n",
       "    'id': '1422102a-98b5-4807-2bbd-d959d591fff8',\n",
       "    'links': [{'@type': 'Link',\n",
       "      'rel': 'self',\n",
       "      'uri': 'https://sandboxapi.deere.com/platform/organizations/2469981/fields/f8159948-2bb4-4607-87bf-ae399e3e7a61/boundaries/1422102a-98b5-4807-2bbd-d959d591fff8'},\n",
       "     {'@type': 'Link',\n",
       "      'rel': 'owningOrganization',\n",
       "      'uri': 'https://sandboxapi.deere.com/platform/organizations/2469981'},\n",
       "     {'@type': 'Link',\n",
       "      'rel': 'field',\n",
       "      'uri': 'https://sandboxapi.deere.com/platform/organizations/2469981/fields/f8159948-2bb4-4607-87bf-ae399e3e7a61'}],\n",
       "    'active': True,\n",
       "    'irrigated': False}],\n",
       "  'lastModifiedTime': '2021-09-09T14:07:09.595Z',\n",
       "  'archived': False,\n",
       "  'id': 'f8159948-2bb4-4607-87bf-ae399e3e7a61',\n",
       "  'links': {'self': 'https://sandboxapi.deere.com/platform/organizations/2469981/fields/f8159948-2bb4-4607-87bf-ae399e3e7a61',\n",
       "   'owningOrganization': 'https://sandboxapi.deere.com/platform/organizations/2469981',\n",
       "   'boundaries': 'https://sandboxapi.deere.com/platform/organizations/2469981/fields/f8159948-2bb4-4607-87bf-ae399e3e7a61/boundaries',\n",
       "   'simplifiedBoundaries': 'https://sandboxapi.deere.com/platform/organizations/2469981/fields/f8159948-2bb4-4607-87bf-ae399e3e7a61/boundaries?simple=true',\n",
       "   'addBoundary': 'https://sandboxapi.deere.com/platform/organizations/2469981/fields/f8159948-2bb4-4607-87bf-ae399e3e7a61/boundaries',\n",
       "   'fieldOperation': 'https://sandboxapi.deere.com/platform/organizations/2469981/fields/f8159948-2bb4-4607-87bf-ae399e3e7a61/fieldOperations',\n",
       "   'mapLayerSummaries': 'https://sandboxapi.deere.com/platform/organizations/2469981/fields/f8159948-2bb4-4607-87bf-ae399e3e7a61/mapLayerSummaries',\n",
       "   'createMapLayerSummary': 'https://sandboxapi.deere.com/platform/organizations/2469981/fields/f8159948-2bb4-4607-87bf-ae399e3e7a61/mapLayerSummaries',\n",
       "   'lastFieldOperation': 'https://sandboxapi.deere.com/platform/organizations/2469981/fields/f8159948-2bb4-4607-87bf-ae399e3e7a61/fieldOperations?lastFieldOperation=true',\n",
       "   'baseStationAssociation': 'https://sandboxapi.deere.com/platform/organizations/2469981/fields/f8159948-2bb4-4607-87bf-ae399e3e7a61/baseStationAssociations',\n",
       "   'varietyLocator': 'https://sandboxapi.deere.com/platform/organizations/2469981/fields/f8159948-2bb4-4607-87bf-ae399e3e7a61/varietyLocatorMaps',\n",
       "   'guidanceLines': 'https://sandboxapi.deere.com/platform/organizations/2469981/fields/f8159948-2bb4-4607-87bf-ae399e3e7a61/guidanceLines',\n",
       "   'addGuidanceTrack': 'https://sandboxapi.deere.com/platform/organizations/2469981/fields/f8159948-2bb4-4607-87bf-ae399e3e7a61/guidanceLines',\n",
       "   'deleteField': 'https://sandboxapi.deere.com/platform/organizations/2469981/fields/f8159948-2bb4-4607-87bf-ae399e3e7a61',\n",
       "   'varietySummary': 'https://sandboxapi.deere.com/platform/organizations/2469981/fields/f8159948-2bb4-4607-87bf-ae399e3e7a61/variety-locator-discovery',\n",
       "   'editField': 'https://sandboxapi.deere.com/platform/organizations/2469981/fields/f8159948-2bb4-4607-87bf-ae399e3e7a61'}},\n",
       " {'@type': 'Field',\n",
       "  'name': 'Jen-3',\n",
       "  'farms': {'@type': 'Farms',\n",
       "   'farms': [{'@type': 'Farm',\n",
       "     'name': 'LabSim Fields',\n",
       "     'archived': False,\n",
       "     'clientUri': 'https://sandboxapi.deere.com/platform/organizations/2469981/clients/',\n",
       "     'id': '3cbdf277-c274-47f5-a6b7-156666ebfdea',\n",
       "     'links': [{'@type': 'Link',\n",
       "       'rel': 'self',\n",
       "       'uri': 'https://sandboxapi.deere.com/platform/organizations/2469981/farms/3cbdf277-c274-47f5-a6b7-156666ebfdea'},\n",
       "      {'@type': 'Link',\n",
       "       'rel': 'fields',\n",
       "       'uri': 'https://sandboxapi.deere.com/platform/organizations/2469981/farms/3cbdf277-c274-47f5-a6b7-156666ebfdea/fields'},\n",
       "      {'@type': 'Link',\n",
       "       'rel': 'clients',\n",
       "       'uri': 'https://sandboxapi.deere.com/platform/organizations/2469981/farms/3cbdf277-c274-47f5-a6b7-156666ebfdea/clients'},\n",
       "      {'@type': 'Link',\n",
       "       'rel': 'owningOrganization',\n",
       "       'uri': 'https://sandboxapi.deere.com/platform/organizations/2469981'}]}],\n",
       "   'otherAttributes': {}},\n",
       "  'clients': {'@type': 'Clients',\n",
       "   'clients': [{'@type': 'Client',\n",
       "     'name': 'Test',\n",
       "     'id': '545d2b1e-0000-1000-7ff0-e1e1e1257010',\n",
       "     'links': [{'@type': 'Link',\n",
       "       'rel': 'self',\n",
       "       'uri': 'https://sandboxapi.deere.com/platform/organizations/2469981/clients/545d2b1e-0000-1000-7ff0-e1e1e1257010'},\n",
       "      {'@type': 'Link',\n",
       "       'rel': 'fields',\n",
       "       'uri': 'https://sandboxapi.deere.com/platform/organizations/2469981/clients/545d2b1e-0000-1000-7ff0-e1e1e1257010/fields'},\n",
       "      {'@type': 'Link',\n",
       "       'rel': 'farms',\n",
       "       'uri': 'https://sandboxapi.deere.com/platform/organizations/2469981/clients/545d2b1e-0000-1000-7ff0-e1e1e1257010/farms'},\n",
       "      {'@type': 'Link',\n",
       "       'rel': 'owningOrganization',\n",
       "       'uri': 'https://sandboxapi.deere.com/platform/organizations/2469981'}]}],\n",
       "   'otherAttributes': {}},\n",
       "  'lastModifiedTime': '1970-01-01T00:00:00.000Z',\n",
       "  'archived': False,\n",
       "  'id': 'fbf5c2c6-3e1a-4b0b-9dd9-e5f990f8ea44',\n",
       "  'links': {'self': 'https://sandboxapi.deere.com/platform/organizations/2469981/fields/fbf5c2c6-3e1a-4b0b-9dd9-e5f990f8ea44',\n",
       "   'owningOrganization': 'https://sandboxapi.deere.com/platform/organizations/2469981',\n",
       "   'boundaries': 'https://sandboxapi.deere.com/platform/organizations/2469981/fields/fbf5c2c6-3e1a-4b0b-9dd9-e5f990f8ea44/boundaries',\n",
       "   'simplifiedBoundaries': 'https://sandboxapi.deere.com/platform/organizations/2469981/fields/fbf5c2c6-3e1a-4b0b-9dd9-e5f990f8ea44/boundaries?simple=true',\n",
       "   'addBoundary': 'https://sandboxapi.deere.com/platform/organizations/2469981/fields/fbf5c2c6-3e1a-4b0b-9dd9-e5f990f8ea44/boundaries',\n",
       "   'fieldOperation': 'https://sandboxapi.deere.com/platform/organizations/2469981/fields/fbf5c2c6-3e1a-4b0b-9dd9-e5f990f8ea44/fieldOperations',\n",
       "   'mapLayerSummaries': 'https://sandboxapi.deere.com/platform/organizations/2469981/fields/fbf5c2c6-3e1a-4b0b-9dd9-e5f990f8ea44/mapLayerSummaries',\n",
       "   'createMapLayerSummary': 'https://sandboxapi.deere.com/platform/organizations/2469981/fields/fbf5c2c6-3e1a-4b0b-9dd9-e5f990f8ea44/mapLayerSummaries',\n",
       "   'lastFieldOperation': 'https://sandboxapi.deere.com/platform/organizations/2469981/fields/fbf5c2c6-3e1a-4b0b-9dd9-e5f990f8ea44/fieldOperations?lastFieldOperation=true',\n",
       "   'baseStationAssociation': 'https://sandboxapi.deere.com/platform/organizations/2469981/fields/fbf5c2c6-3e1a-4b0b-9dd9-e5f990f8ea44/baseStationAssociations',\n",
       "   'varietyLocator': 'https://sandboxapi.deere.com/platform/organizations/2469981/fields/fbf5c2c6-3e1a-4b0b-9dd9-e5f990f8ea44/varietyLocatorMaps',\n",
       "   'guidanceLines': 'https://sandboxapi.deere.com/platform/organizations/2469981/fields/fbf5c2c6-3e1a-4b0b-9dd9-e5f990f8ea44/guidanceLines',\n",
       "   'addGuidanceTrack': 'https://sandboxapi.deere.com/platform/organizations/2469981/fields/fbf5c2c6-3e1a-4b0b-9dd9-e5f990f8ea44/guidanceLines',\n",
       "   'deleteField': 'https://sandboxapi.deere.com/platform/organizations/2469981/fields/fbf5c2c6-3e1a-4b0b-9dd9-e5f990f8ea44',\n",
       "   'varietySummary': 'https://sandboxapi.deere.com/platform/organizations/2469981/fields/fbf5c2c6-3e1a-4b0b-9dd9-e5f990f8ea44/variety-locator-discovery',\n",
       "   'editField': 'https://sandboxapi.deere.com/platform/organizations/2469981/fields/fbf5c2c6-3e1a-4b0b-9dd9-e5f990f8ea44'}}]"
      ]
     },
     "execution_count": 21,
     "metadata": {},
     "output_type": "execute_result"
    }
   ],
   "source": [
    "farm_client_activeBoundary_embed_request_param = {'embed' : 'farms,clients,activeBoundary'}\n",
    "\n",
    "field_list_for_organization_with_embed = get_myjohndeere_api_collection_values_for_all_pages(oauth2_session, organization_field_list_uri_with_count_100, params = farm_client_activeBoundary_embed_request_param)\n",
    "field_list_for_organization_with_embed"
   ]
  },
  {
   "cell_type": "markdown",
   "metadata": {
    "id": "cj0YJCke0yVV"
   },
   "source": [
    "We strongly encourage our Connected Software Companies to use `embed` on frequently-used API requests. If you find an API that you wish had an `embed`, please let John Deere API support know."
   ]
  },
  {
   "cell_type": "markdown",
   "metadata": {
    "id": "AUet9E_TNrgD"
   },
   "source": [
    "#Using Deere ETags to monitor for changes#"
   ]
  },
  {
   "cell_type": "markdown",
   "metadata": {
    "id": "SYmFREBXNv-u"
   },
   "source": [
    "[Deere ETags](https://developer-portal.deere.com/#/start-developing/help/get-started/help-deere-tags) is a custom implementation of ETags. It helps keep data in sync between your system and ours by telling you what changed since the last time you made an API call.\n"
   ]
  },
  {
   "cell_type": "code",
   "execution_count": null,
   "metadata": {
    "id": "XWt9PpFlSTyj"
   },
   "outputs": [],
   "source": [
    "def create_myjohndeere_api_header_with_deere_etag(deere_etag_value = 'nil'):\n",
    "  return {'Accept': 'application/vnd.deere.axiom.v3+json', 'x-deere-signature' : deere_etag_value}"
   ]
  },
  {
   "cell_type": "code",
   "execution_count": null,
   "metadata": {
    "id": "FUN_vk5sOg7a"
   },
   "outputs": [],
   "source": [
    "deere_etag_value = 'nil'\n",
    "\n",
    "json_plus_deere_etag_headers = create_myjohndeere_api_header_with_deere_etag(deere_etag_value)\n",
    "\n",
    "field_list_response_with_deere_etag = oauth2_session.get(organization_field_list_uri_with_count_100, \n",
    "                                                        params = farm_client_activeBoundary_embed_request_param,\n",
    "                                                        headers = json_plus_deere_etag_headers)\n",
    "field_list_response_with_deere_etag.json()"
   ]
  },
  {
   "cell_type": "markdown",
   "metadata": {
    "id": "2Xc4vWoPROIa"
   },
   "source": [
    "The response looks the same, except for the new `x-deere-signature` header. It contains a UUID that can be used next time we make this API call."
   ]
  },
  {
   "cell_type": "code",
   "execution_count": null,
   "metadata": {
    "id": "j0BERBaMRFsJ"
   },
   "outputs": [],
   "source": [
    "field_list_response_with_deere_etag.headers['x-deere-signature']"
   ]
  },
  {
   "cell_type": "markdown",
   "metadata": {
    "id": "3iid9QTzR0yr"
   },
   "source": [
    "We can use this UUID in future requests to see if anything has changed. Let's copy the `x-deere-signature` guid into a new request. \n",
    "\n",
    "*Extra tip:* This UUID is only valid for a single URL. For each combination of path parameters, you'll need to store a separate ETag UUID."
   ]
  },
  {
   "cell_type": "code",
   "execution_count": null,
   "metadata": {
    "id": "WeXYet-ZSHNj"
   },
   "outputs": [],
   "source": [
    "header_with_deere_etag_value = create_myjohndeere_api_header_with_deere_etag(field_list_response_with_deere_etag.headers['x-deere-signature'])"
   ]
  },
  {
   "cell_type": "code",
   "execution_count": null,
   "metadata": {
    "id": "Qhx-Nvr8UF5R"
   },
   "outputs": [],
   "source": [
    "field_list_response_with_deere_etag_using_etag = oauth2_session.get(organization_field_list_uri_with_count_100, \n",
    "                                                        params = farm_client_activeBoundary_embed_request_param,\n",
    "                                                        headers = header_with_deere_etag_value)\n",
    "field_list_response_with_deere_etag_using_etag"
   ]
  },
  {
   "cell_type": "code",
   "execution_count": null,
   "metadata": {
    "id": "jfqEI1beTeeA"
   },
   "outputs": [],
   "source": [
    "if field_list_response_with_deere_etag_using_etag.status_code == 200:\n",
    "  #If a 200 response is seen, your own application would need to update your downloaded field list. This statement instead just updates the x-deere-signature to a new value\n",
    "  header_with_deere_etag_value = create_myjohndeere_api_header_with_deere_etag(field_list_response_with_deere_etag_using_etag.headers['x-deere-signature'])"
   ]
  },
  {
   "cell_type": "markdown",
   "metadata": {
    "id": "Ol4Ld3yu2B5c"
   },
   "source": [
    "#Optimizing your calls with GZip#"
   ]
  },
  {
   "cell_type": "markdown",
   "metadata": {
    "id": "0w_IWYrr2WM6"
   },
   "source": [
    "You can reduce network traffic by asking the API's to compress their responses. The MyJohnDeere API's support GZip compression.\n",
    "\n",
    "Let's add an `Accept-Encoding=GZip` header and make some more API calls."
   ]
  },
  {
   "cell_type": "code",
   "execution_count": 22,
   "metadata": {
    "id": "p9mKzW-T8-tB"
   },
   "outputs": [
    {
     "name": "stdout",
     "output_type": "stream",
     "text": [
      "Response size of of the field list with GZip was 43940\n"
     ]
    }
   ],
   "source": [
    "MYJOHNDEERE_V3_JSON_AND_GZIP_HEADERS = {'Accept': 'application/vnd.deere.axiom.v3+json', 'Content-Type': 'application/vnd.deere.axiom.v3+json', 'Accept-Encoding' : 'gzip' }\n",
    "\n",
    "organization_field_list_with_embed_responses_gzip = oauth2_session.get(organization_field_list_uri_with_count_100, headers = MYJOHNDEERE_V3_JSON_AND_GZIP_HEADERS, params = farm_client_activeBoundary_embed_request_param)\n",
    "field_list_response_size_in_byte_with_gzip = len(organization_field_list_with_embed_responses_gzip.content)\n",
    "print(\"Response size of of the field list with GZip was \" + str(field_list_response_size_in_byte_with_gzip))"
   ]
  },
  {
   "cell_type": "markdown",
   "metadata": {
    "id": "A-7fMHio1leV"
   },
   "source": [
    "#Recommended administration features to add to your integration#"
   ]
  },
  {
   "cell_type": "markdown",
   "metadata": {
    "id": "tcoE6g9PJ9jL"
   },
   "source": [
    "###Using the `currentUser` object as a 'foreign key' into the MyJohnDeere API###"
   ]
  },
  {
   "cell_type": "markdown",
   "metadata": {
    "id": "OnspczTx4OUF"
   },
   "source": [
    "Remember that user accounts in your system may be set up differently than user accounts in the John Deere system. Especially with large farming organizations, it is useful to be able to understand who a user is within John Deere Operations Center. We'll use the 'currentUser' link from the API Catalog to discover some key details about the logged in user."
   ]
  },
  {
   "cell_type": "code",
   "execution_count": 23,
   "metadata": {
    "id": "I7d0sjXb3xLp"
   },
   "outputs": [
    {
     "data": {
      "text/plain": [
       "{'@type': 'User',\n",
       " 'accountName': 'ChristianKau',\n",
       " 'givenName': 'Christian',\n",
       " 'familyName': 'Kau',\n",
       " 'userType': 'Customer',\n",
       " 'links': {'self': 'https://sandboxapi.deere.com/platform/users/ChristianKau',\n",
       "  'organizations': 'https://sandboxapi.deere.com/platform/users/ChristianKau/organizations',\n",
       "  'emailAddresses': 'https://sandboxapi.deere.com/platform/users/ChristianKau/emailAddresses'}}"
      ]
     },
     "execution_count": 23,
     "metadata": {},
     "output_type": "execute_result"
    }
   ],
   "source": [
    "current_user_uri = api_catalog_response_with_clean_links['links']['currentUser']\n",
    "current_user_json_response = get_myjohndeere_api_json_response(oauth2_session, current_user_uri)\n",
    "current_user_json_response"
   ]
  },
  {
   "cell_type": "markdown",
   "metadata": {
    "id": "w1r01TfVKavI"
   },
   "source": [
    "The `currentUser` object contains a few key elements that you'll likely find useful. The `userType` attribute lets you know if the logged in user is a John Deere customer or a John Deere dealer, which you can use to give a more customized experience. The `accountName` attribute is the username of the customer within the John Deere system. Your own tooling should keep a record of this whenever you encounter errors that you plan to submit to John Deere's [API support team](mailto:APIDevSupport@JohnDeere.com). This will help the support team help you fix issues quickly."
   ]
  },
  {
   "cell_type": "markdown",
   "metadata": {
    "id": "qAO8Yq6NNk6N"
   },
   "source": [
    "#Handling API errors#"
   ]
  },
  {
   "cell_type": "markdown",
   "metadata": {
    "id": "Zld-5nXUNn63"
   },
   "source": [
    "###Dealing with 500 responses###"
   ]
  },
  {
   "cell_type": "markdown",
   "metadata": {
    "id": "IIEjI-bBQjjc"
   },
   "source": [
    "While we target high uptime, every web API has problems sometimes. We've documented [how to handle some of the most common errors](https://developer-portal.deere.com/#/start-developing/help/get-started/common-errors).\n",
    "\n",
    "When you do encounter an error, please don't retry immediately - that makes things worse! We recommend that you use an exponential backoff loop. For this code section, we'll use [httpstat.us](https://httpstat.us/) as a demonstration tool to automatically generate 500 errors.\n",
    "\n",
    "*Extra tip:* This demo simply doubles the wait time after each failure. Another good alternative (in milliseconds) is `Thread.Sleep((int) Math.Pow(10, retryCount));`."
   ]
  },
  {
   "cell_type": "code",
   "execution_count": 26,
   "metadata": {
    "id": "Bywgaq_JSCOk"
   },
   "outputs": [
    {
     "data": {
      "text/plain": [
       "<Response [500]>"
      ]
     },
     "execution_count": 26,
     "metadata": {},
     "output_type": "execute_result"
    }
   ],
   "source": [
    "uri_that_always_generates_500_errors = \"https://httpstat.us/500\"\n",
    "oauth2_session.get(uri_that_always_generates_500_errors)"
   ]
  },
  {
   "cell_type": "markdown",
   "metadata": {
    "id": "nytxXKxMUH2f"
   },
   "source": [
    "Now we'll add some code to retry when we encounter a 500. We will also import some libraries for dealing with time."
   ]
  },
  {
   "cell_type": "code",
   "execution_count": 27,
   "metadata": {
    "id": "FhQ8hn-IVdA_"
   },
   "outputs": [],
   "source": [
    "import time\n",
    "import datetime\n",
    "\n",
    "def is_status_code_a_server_error(http_status_code):\n",
    "  return http_status_code >= 500 and http_status_code < 600\n",
    "\n",
    "def print_current_time_to_console():\n",
    "  print(\"Making a call at \" + str(datetime.datetime.now()))\n",
    "\n",
    "def call_api_with_500_retry_logic(oauth_session, uri_to_call):\n",
    "  print_current_time_to_console()\n",
    "  timer_in_seconds = 1\n",
    "  api_response = oauth_session.get(uri_to_call)\n",
    "  while(is_status_code_a_server_error(api_response.status_code) and timer_in_seconds < 30):\n",
    "    time.sleep(timer_in_seconds)\n",
    "    timer_in_seconds = timer_in_seconds * 2\n",
    "    print_current_time_to_console()\n",
    "    api_response = oauth_session.get(uri_to_call)\n",
    "  print(\"Unable to succeed in the API call. This would be a good point to log the exact API call made, the username of the caller, as well as the date\")"
   ]
  },
  {
   "cell_type": "code",
   "execution_count": 28,
   "metadata": {
    "id": "uILQQeqCXT3M"
   },
   "outputs": [
    {
     "name": "stdout",
     "output_type": "stream",
     "text": [
      "Making a call at 2023-06-15 10:24:56.998281\n",
      "Making a call at 2023-06-15 10:24:58.154603\n",
      "Making a call at 2023-06-15 10:25:00.297535\n",
      "Making a call at 2023-06-15 10:25:04.451837\n",
      "Making a call at 2023-06-15 10:25:12.585395\n",
      "Making a call at 2023-06-15 10:25:28.725043\n",
      "Unable to succeed in the API call. This would be a good point to log the exact API call made, the username of the caller, as well as the date\n"
     ]
    }
   ],
   "source": [
    "call_api_with_500_retry_logic(oauth2_session, uri_that_always_generates_500_errors)"
   ]
  },
  {
   "cell_type": "markdown",
   "metadata": {
    "id": "WeQnkgfi2TmN"
   },
   "source": [
    "###Dealing with 429 responses###"
   ]
  },
  {
   "cell_type": "markdown",
   "metadata": {
    "id": "Ww15GVG72ZWm"
   },
   "source": [
    "The MyJohnDeere API has [built-in flood protection](https://developer-portal.deere.com/#/start-developing/help/get-started/common-errors) that generates HTTP 429 responses. It is triggered by too many requests from a single application, or when the MyJohnDeere API server is under unusually high load.\n",
    "\n",
    "As a demonstration, we'll set up a `mock` to simulate `429` responses from the `API Catalog`.\n",
    "\n"
   ]
  },
  {
   "cell_type": "code",
   "execution_count": 29,
   "metadata": {
    "id": "9Z7XqyTY3bnO"
   },
   "outputs": [
    {
     "name": "stdout",
     "output_type": "stream",
     "text": [
      "Requirement already satisfied: requests_mock in c:\\users\\chris\\anaconda3\\lib\\site-packages (1.10.0)\n",
      "Requirement already satisfied: requests<3,>=2.3 in c:\\users\\chris\\anaconda3\\lib\\site-packages (from requests_mock) (2.28.1)\n",
      "Requirement already satisfied: six in c:\\users\\chris\\anaconda3\\lib\\site-packages (from requests_mock) (1.16.0)\n",
      "Requirement already satisfied: charset-normalizer<3,>=2 in c:\\users\\chris\\anaconda3\\lib\\site-packages (from requests<3,>=2.3->requests_mock) (2.0.4)\n",
      "Requirement already satisfied: certifi>=2017.4.17 in c:\\users\\chris\\anaconda3\\lib\\site-packages (from requests<3,>=2.3->requests_mock) (2022.12.7)\n",
      "Requirement already satisfied: urllib3<1.27,>=1.21.1 in c:\\users\\chris\\anaconda3\\lib\\site-packages (from requests<3,>=2.3->requests_mock) (1.26.14)\n",
      "Requirement already satisfied: idna<4,>=2.5 in c:\\users\\chris\\anaconda3\\lib\\site-packages (from requests<3,>=2.3->requests_mock) (3.4)\n"
     ]
    }
   ],
   "source": [
    "!pip install requests_mock"
   ]
  },
  {
   "cell_type": "code",
   "execution_count": 30,
   "metadata": {
    "id": "KFuY0OCo3UKY"
   },
   "outputs": [
    {
     "data": {
      "text/plain": [
       "<requests_mock.adapter._Matcher at 0x251e4242ac8>"
      ]
     },
     "execution_count": 30,
     "metadata": {},
     "output_type": "execute_result"
    }
   ],
   "source": [
    "import requests\n",
    "import requests_mock\n",
    "\n",
    "mock_api_catalog_uri = 'mock://sandboxapi.deere.com/platform/'\n",
    "\n",
    "session = requests.Session()\n",
    "adapter = requests_mock.Adapter()\n",
    "session.mount('mock', adapter)\n",
    "\n",
    "retry_after_two_seconds_header = {'Retry-After' : '2'}\n",
    "adapter.register_uri('GET', mock_api_catalog_uri, status_code = 429, headers = retry_after_two_seconds_header)"
   ]
  },
  {
   "cell_type": "markdown",
   "metadata": {
    "id": "1RvaWLo55Aih"
   },
   "source": [
    "With the 429 response, the MyJohnDeere API server recommendations how long to wait - in seconds - before attempting to retry. We will use that response header in order to setup our sleep timers."
   ]
  },
  {
   "cell_type": "code",
   "execution_count": 31,
   "metadata": {
    "id": "43wBNB7b3ivB"
   },
   "outputs": [],
   "source": [
    "import time\n",
    "import datetime\n",
    "\n",
    "def is_status_code_429(http_status_code):\n",
    "  return http_status_code == 429\n",
    "\n",
    "def print_current_time_to_console():\n",
    "  print(\"Making a call at \" + str(datetime.datetime.now()))\n",
    "  \n",
    "def call_api_with_429_retry_logic(session, uri_to_call):\n",
    "  print_current_time_to_console()\n",
    "  attempts = 0\n",
    "  api_response = session.get(uri_to_call)\n",
    "  while(is_status_code_429(api_response.status_code) and attempts < 3):\n",
    "    time.sleep(int(api_response.headers['Retry-After']))\n",
    "    attempts = attempts + 1\n",
    "    print_current_time_to_console()\n",
    "    api_response = session.get(uri_to_call)\n",
    "  print(\"For the 429, it can still be useful to have a maximum amount of retrys before considering the API call a failure\")"
   ]
  },
  {
   "cell_type": "code",
   "execution_count": 32,
   "metadata": {
    "id": "VMWtRo5g8cKV"
   },
   "outputs": [
    {
     "name": "stdout",
     "output_type": "stream",
     "text": [
      "Making a call at 2023-06-15 10:26:12.039263\n",
      "Making a call at 2023-06-15 10:26:14.043463\n",
      "Making a call at 2023-06-15 10:26:16.057694\n",
      "Making a call at 2023-06-15 10:26:18.072528\n",
      "For the 429, it can still be useful to have a maximum amount of retrys before considering the API call a failure\n"
     ]
    }
   ],
   "source": [
    "call_api_with_429_retry_logic(session, mock_api_catalog_uri)"
   ]
  },
  {
   "cell_type": "markdown",
   "metadata": {
    "id": "aGkI-3be8CSO"
   },
   "source": [
    "#Selecting the right organization for a grower#"
   ]
  },
  {
   "cell_type": "markdown",
   "metadata": {
    "id": "FZWsArof8ylb"
   },
   "source": [
    "For most applications connected to the MyJohnDeere API, your end user is a farmer who is unlikely to be a member of multiple organizations in Operations Center. If a user is a member of multiple organizations, you will need to select which one to use. In the second cell, make sure to change the `selected_organization_index` to an organization from the results from the first cell."
   ]
  },
  {
   "cell_type": "code",
   "execution_count": 33,
   "metadata": {
    "id": "aJKtEDPA71FZ"
   },
   "outputs": [
    {
     "name": "stdout",
     "output_type": "stream",
     "text": [
      "[0] Christian Kau\n"
     ]
    }
   ],
   "source": [
    "current_user_response = get_myjohndeere_api_json_response(oauth2_session, current_user_uri)\n",
    "organizations_for_current_user_uri = current_user_response['links']['organizations']\n",
    "organizations_for_current_user_uri = default_to_count_100(organizations_for_current_user_uri)\n",
    "organizations_for_current_user = get_myjohndeere_api_collection_values_for_all_pages(oauth2_session, organizations_for_current_user_uri)\n",
    "organization_index = 0\n",
    "for organization in organizations_for_current_user:\n",
    "  print(\"[\" + str(organization_index) + \"] \" + organization['name'])\n",
    "  organization_index = organization_index + 1"
   ]
  },
  {
   "cell_type": "code",
   "execution_count": 34,
   "metadata": {
    "id": "pSjOV_Q1--BO"
   },
   "outputs": [
    {
     "name": "stdout",
     "output_type": "stream",
     "text": [
      "The organization chosen has a name of \"Christian Kau\" and an id of 2469981\n"
     ]
    }
   ],
   "source": [
    "#Replace the value of selected_organization_index to one of the values listed from the cell above\n",
    "selected_organization_index = 0\n",
    "\n",
    "selected_organization = organizations_for_current_user[selected_organization_index]\n",
    "print(\"The organization chosen has a name of \\\"\" + selected_organization['name'] + \"\\\" and an id of \" + selected_organization['id'])"
   ]
  },
  {
   "cell_type": "markdown",
   "metadata": {
    "id": "SRI6VONnBsrs"
   },
   "source": [
    "#Selecting the right organization for a contractor or a John Deere dealer#"
   ]
  },
  {
   "cell_type": "markdown",
   "metadata": {
    "id": "0y3J0SOTCO6Q"
   },
   "source": [
    "Applications that target contractors or John Deere dealers often need to manage organizations differently. It is common for a contractor or dealer to support a large number of organizations, and your application will need a way to let the user select which one to use.\n",
    "\n",
    "Note that in this case you want to keep data separated by organization. Merging data across organizations is probably not what a dealer or contractor wants."
   ]
  },
  {
   "cell_type": "code",
   "execution_count": 35,
   "metadata": {
    "id": "Vna2DZTcAr5V"
   },
   "outputs": [
    {
     "name": "stdout",
     "output_type": "stream",
     "text": [
      "[0] Christian Kau\n"
     ]
    }
   ],
   "source": [
    "api_catalog_response = get_myjohndeere_api_json_response(oauth2_session, API_CATALOG_URI)\n",
    "organizations_uri = api_catalog_response['links']['organizations']\n",
    "organizations_uri = default_to_count_100(organizations_uri)\n",
    "\n",
    "organizations_visible_to_logged_in_user = get_myjohndeere_api_collection_values_for_all_pages(oauth2_session, organizations_uri)\n",
    "organization_index = 0\n",
    "for organization in organizations_visible_to_logged_in_user:\n",
    "  print(\"[\" + str(organization_index) + \"] \" + organization['name'])\n",
    "  organization_index = organization_index + 1"
   ]
  },
  {
   "cell_type": "code",
   "execution_count": 37,
   "metadata": {
    "id": "YDK-2UorD_Iy"
   },
   "outputs": [
    {
     "name": "stdout",
     "output_type": "stream",
     "text": [
      "The number of organizations chosen was 1\n"
     ]
    }
   ],
   "source": [
    "#Replace the values in the array below with the organizations you want to pick from above\n",
    "selected_organizations_array = [0,]\n",
    "\n",
    "selected_organizations = [organizations_visible_to_logged_in_user[i] for i in selected_organizations_array]\n",
    "print(\"The number of organizations chosen was \" + str(len(selected_organizations)))"
   ]
  },
  {
   "cell_type": "markdown",
   "metadata": {
    "id": "LVKuC2Li1rl1"
   },
   "source": [
    "#Getting your application to production#"
   ]
  },
  {
   "cell_type": "markdown",
   "metadata": {
    "id": "OV2ajDHH5_Ga"
   },
   "source": [
    "###Application access while in Sandbox###"
   ]
  },
  {
   "cell_type": "markdown",
   "metadata": {
    "id": "56SJ9cEK6CQN"
   },
   "source": [
    "Applications on developer.deere.com have two lifecycle phases. In \"Sandbox\", your application is only available to your application team. In \"Production\", real customers can use your application. This is the only major difference between the two - in both phases, your application calls the production MyJohnDeere backend."
   ]
  },
  {
   "cell_type": "markdown",
   "metadata": {
    "id": "J1ryqoT-3wmO"
   },
   "source": [
    "This is a picture showing the \"Team Members\" of an application on developer.deere.com. Only \"Team\" members of a `Sandbox` application on developer.deere.com are allowed to authenticate. You can invite additional team members as needed for development and testing.\n",
    "\n",
    "![Team Section on developer.deere.com](https://github.com/JohnDeere/DevelopWithDeereNotebooks/raw/master/Best%20Practices/TeamOnDeveloperDeereCom.png)"
   ]
  },
  {
   "cell_type": "markdown",
   "metadata": {
    "id": "U8CZA1H55cHm"
   },
   "source": [
    "###Getting to production###"
   ]
  },
  {
   "cell_type": "markdown",
   "metadata": {
    "id": "tSdc9r8a5gPh"
   },
   "source": [
    "When your application is ready to go to production with the MyJohnDeere API, it must pass two checks before we will grant Production access."
   ]
  },
  {
   "cell_type": "markdown",
   "metadata": {
    "id": "ACyW6KD97MQC"
   },
   "source": [
    "Schedule a review with John Deere's API support team. You do not need to share your source code - we just want to check our logs. Your application should be used like a real customer would use your application. This can include initial signup, creating data, and polling the MyJohnDeere API's.\n",
    "\n",
    "If anything critical is noticed in the review, such as potential DDoS attacks or inefficient API usage, we'll make suggestions."
   ]
  },
  {
   "cell_type": "markdown",
   "metadata": {
    "id": "FWerEr5v7MwF"
   },
   "source": [
    "The John Deere Business Development team needs a signed API usage agreement. This agreement goes over all of the APIs required, the usage limits for those APIs, and allowed behaviors."
   ]
  },
  {
   "cell_type": "markdown",
   "metadata": {
    "id": "79v4ET3p7fG8"
   },
   "source": [
    "Once both steps are complete, production access will be granted. At that time, change the base URI you use to call MyJohnDeere from 'https://sandboxapi.deere.com/platform/' to 'https://partnerapi.deere.com/platform/'."
   ]
  }
 ],
 "metadata": {
  "colab": {
   "name": "MyJohnDeere_API_Best_Practices.ipynb",
   "provenance": []
  },
  "kernelspec": {
   "display_name": "Python 3 (ipykernel)",
   "language": "python",
   "name": "python3"
  },
  "language_info": {
   "codemirror_mode": {
    "name": "ipython",
    "version": 3
   },
   "file_extension": ".py",
   "mimetype": "text/x-python",
   "name": "python",
   "nbconvert_exporter": "python",
   "pygments_lexer": "ipython3",
   "version": "3.7.16"
  }
 },
 "nbformat": 4,
 "nbformat_minor": 1
}
